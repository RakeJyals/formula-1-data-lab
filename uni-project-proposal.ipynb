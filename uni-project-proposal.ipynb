{
 "cells": [
  {
   "cell_type": "code",
   "execution_count": 1,
   "id": "d7dad6ea-7b91-4e00-8670-4f76ab93ebaf",
   "metadata": {
    "tags": []
   },
   "outputs": [],
   "source": [
    "import fastf1 as f1\n",
    "import pandas as pd\n",
    "import matplotlib.pyplot as plt\n",
    "import seaborn as sns"
   ]
  },
  {
   "cell_type": "markdown",
   "id": "f519afe7-669c-4583-a7e9-185e26f06fa0",
   "metadata": {
    "tags": []
   },
   "source": [
    "# Formula 1 Performance Analysis Proposal\n",
    "## Introduction\n",
    "In order to perform well in a Formula 1 Grand Prix race, teams must develop a successful strategy for determining what compounds of tires to use during the race (there are several types of tires, each of which have a different tradeoff in terms of grip and lifespan), and when to make a pit stop to swap to a new pair of tires. While this is a very complex problem involving many variables, one of the most important things to consider is how long a set of tires will last before they lose enough grip to justify making a pit stop and changing the tires. One of the simpleset ways to measure vehicle performance is by using the lap times the car is capable of.\n",
    "\n",
    "\n",
    "This project aims to model vehicle lap times around a circuit, using publicly available features such as:\n",
    "* Number of laps driven during the session\n",
    "* Tire age in laps driven\n",
    "* Number of laps driven at a slower pace (eg, slowdown required for safety reasons)\n",
    "* Weather data (eg, track and air temperatures, humidity, pressure)\n",
    "* Distance to car ahead (which impacts the vehicle's aerodynamics)\n",
    "* Driver's best lap time\n",
    "* Whether the car has made a pit stop on this lap\n",
    "\n",
    "\n",
    "For the sake of scope, this project will focus on only one event: the 2025 Japanese Grand Prix, which I have chosen because of its lack of rain and race interuptions in order to make data cleaning and analysis simpler. In the future, the techniques applied here could be used on other events, and with the right features, a model could accurately predict lap times from multiple circuits.\n",
    "\n",
    "If this project is sufficiently successful, the results could be used for predictive analytics and could assist the development of a \"virtual race engineer,\" or a machine learning model that can make real time decisions in regards to actions such as pit stops in order to complete a race as quickly as possible. Additionally, understanding how different tire compounds perform on a given race track can improve future decisions on which tire types to use in future Grand Prix events.\n",
    "## Approach\n",
    "I intend to approach this problem by training a linear model to predict lap times with the specified features. Due to the complex nature of the relationships between some of these attributes, I also intend to use data visualization to determine how and if to transform these features in order to better fit a linear model. Since the scope of this project is explanatory analytics, I will randomly split the entire set of lap data into training and testing data. Further investigation could use free practice data and data from previous events to train a model to predict the outcome of a future race, but we will avoid doing so in this project to maintain a reasonable scope.\n",
    "\n",
    "I also currently plan on developing a model during 2 phases: the first phase will involve developing a model that uses a minimal number of features, and the second phase will focus on introducing more features to the model. I intend on using this approach mostly as a learning opportunity to gain insight regarding complications and drawbacks of an increasingly complex model."
   ]
  },
  {
   "cell_type": "markdown",
   "id": "15d01c6c-389e-4b5f-98df-e4eefd893b74",
   "metadata": {
    "tags": []
   },
   "source": [
    "## Data Source\n",
    "The best source I found for this project is FastF1, a python package/data warehouse that curates data from Formula 1 official live timings (I came across this framework when I was browsing F1 related data sets on kaggle and saw FastF1 as a source for some of them). Each track session is separated into its own session object, which can be retrieved individually via the FastF1 package:"
   ]
  },
  {
   "cell_type": "code",
   "execution_count": 2,
   "id": "43aac5f4-ca95-473a-af02-b42c659d0023",
   "metadata": {
    "tags": []
   },
   "outputs": [
    {
     "name": "stderr",
     "output_type": "stream",
     "text": [
      "req         WARNING \tDEFAULT CACHE ENABLED! (510.87 MB) /home/studio-lab-user/.cache/fastf1\n",
      "core           INFO \tLoading data for Japanese Grand Prix - Race [v3.5.3]\n",
      "req            INFO \tUsing cached data for session_info\n",
      "req            INFO \tUsing cached data for driver_info\n",
      "req            INFO \tUsing cached data for session_status_data\n",
      "req            INFO \tUsing cached data for lap_count\n",
      "req            INFO \tUsing cached data for track_status_data\n",
      "req            INFO \tUsing cached data for _extended_timing_data\n",
      "req            INFO \tUsing cached data for timing_app_data\n",
      "core           INFO \tProcessing timing data...\n",
      "req            INFO \tUsing cached data for car_data\n",
      "req            INFO \tUsing cached data for position_data\n",
      "req            INFO \tUsing cached data for weather_data\n",
      "req            INFO \tUsing cached data for race_control_messages\n",
      "core           INFO \tFinished loading data for 20 drivers: ['1', '4', '81', '16', '63', '12', '44', '6', '23', '87', '14', '22', '10', '55', '7', '27', '30', '31', '5', '18']\n"
     ]
    }
   ],
   "source": [
    "session = f1.get_session(2025, 3, \"R\")  # For example, this snippet loads the race from the third Grand Prix of the 2025 season\n",
    "session.load(telemetry = True, weather = True)"
   ]
  },
  {
   "cell_type": "markdown",
   "id": "40af5726-8d9c-4496-b818-7118031bb25d",
   "metadata": {},
   "source": [
    "Each session object most notably comprises of a table consisting of information pertaining to each lap and collected weather data. There is also car telemetry data, but there is not a single data frame consisting of all telemetry data. To compile all the desired data, we can use the laps table as a base table, then join weather and telemetry data by matching session time. <br>\n",
    "Each laps data frame also only covers one session, whereas during a Grand Prix there are 5 sessions. Consequently to maximize our data domain, we will have to combine these 5 data frames."
   ]
  },
  {
   "cell_type": "markdown",
   "id": "e0f9dc3a-e764-48a1-b4a7-67b9ea4ad921",
   "metadata": {
    "tags": []
   },
   "source": [
    "## Lap Data"
   ]
  },
  {
   "cell_type": "code",
   "execution_count": 3,
   "id": "215468a5-44a0-4508-be8a-366c27283a82",
   "metadata": {},
   "outputs": [
    {
     "data": {
      "text/plain": [
       "Index(['Time', 'Driver', 'DriverNumber', 'LapTime', 'LapNumber', 'Stint',\n",
       "       'PitOutTime', 'PitInTime', 'Sector1Time', 'Sector2Time', 'Sector3Time',\n",
       "       'Sector1SessionTime', 'Sector2SessionTime', 'Sector3SessionTime',\n",
       "       'SpeedI1', 'SpeedI2', 'SpeedFL', 'SpeedST', 'IsPersonalBest',\n",
       "       'Compound', 'TyreLife', 'FreshTyre', 'Team', 'LapStartTime',\n",
       "       'LapStartDate', 'TrackStatus', 'Position', 'Deleted', 'DeletedReason',\n",
       "       'FastF1Generated', 'IsAccurate'],\n",
       "      dtype='object')"
      ]
     },
     "execution_count": 3,
     "metadata": {},
     "output_type": "execute_result"
    }
   ],
   "source": [
    "session.laps.columns"
   ]
  },
  {
   "cell_type": "markdown",
   "id": "ab939643-3f0a-4b6d-b9ec-c8c2b5849e9c",
   "metadata": {},
   "source": [
    "One important caveat of this data is that the dry compounds are categorized as Soft, Medium, or Hard. In reality, there are currently 6 dry compounds (designated C1 through C6, hardest to softest), and three of these compounds are made available for each Grand Prix. Consequently if we want to compare data between different events, we will need to transform the soft/medium/hard values into their actual compounds. The information necessary to do this is not available in FastF1 but is published by Formula 1. (This is a note for future investigation, we will not need to do this for the scope of this project)"
   ]
  },
  {
   "cell_type": "code",
   "execution_count": 4,
   "id": "404fce51-b38e-42ca-b6e0-451dd85cdde2",
   "metadata": {
    "tags": []
   },
   "outputs": [
    {
     "data": {
      "text/html": [
       "<div>\n",
       "<style scoped>\n",
       "    .dataframe tbody tr th:only-of-type {\n",
       "        vertical-align: middle;\n",
       "    }\n",
       "\n",
       "    .dataframe tbody tr th {\n",
       "        vertical-align: top;\n",
       "    }\n",
       "\n",
       "    .dataframe thead th {\n",
       "        text-align: right;\n",
       "    }\n",
       "</style>\n",
       "<table border=\"1\" class=\"dataframe\">\n",
       "  <thead>\n",
       "    <tr style=\"text-align: right;\">\n",
       "      <th></th>\n",
       "      <th>Time</th>\n",
       "      <th>Driver</th>\n",
       "      <th>DriverNumber</th>\n",
       "      <th>LapTime</th>\n",
       "      <th>LapNumber</th>\n",
       "      <th>Stint</th>\n",
       "      <th>PitOutTime</th>\n",
       "      <th>PitInTime</th>\n",
       "      <th>Sector1Time</th>\n",
       "      <th>Sector2Time</th>\n",
       "      <th>...</th>\n",
       "      <th>FreshTyre</th>\n",
       "      <th>Team</th>\n",
       "      <th>LapStartTime</th>\n",
       "      <th>LapStartDate</th>\n",
       "      <th>TrackStatus</th>\n",
       "      <th>Position</th>\n",
       "      <th>Deleted</th>\n",
       "      <th>DeletedReason</th>\n",
       "      <th>FastF1Generated</th>\n",
       "      <th>IsAccurate</th>\n",
       "    </tr>\n",
       "  </thead>\n",
       "  <tbody>\n",
       "    <tr>\n",
       "      <th>0</th>\n",
       "      <td>0 days 00:57:41.632000</td>\n",
       "      <td>VER</td>\n",
       "      <td>1</td>\n",
       "      <td>0 days 00:01:34.725000</td>\n",
       "      <td>1.0</td>\n",
       "      <td>1.0</td>\n",
       "      <td>NaT</td>\n",
       "      <td>NaT</td>\n",
       "      <td>NaT</td>\n",
       "      <td>0 days 00:00:41.962000</td>\n",
       "      <td>...</td>\n",
       "      <td>True</td>\n",
       "      <td>Red Bull Racing</td>\n",
       "      <td>0 days 00:56:06.651000</td>\n",
       "      <td>2025-04-06 05:03:47.081</td>\n",
       "      <td>1</td>\n",
       "      <td>1.0</td>\n",
       "      <td>False</td>\n",
       "      <td></td>\n",
       "      <td>False</td>\n",
       "      <td>False</td>\n",
       "    </tr>\n",
       "  </tbody>\n",
       "</table>\n",
       "<p>1 rows × 31 columns</p>\n",
       "</div>"
      ],
      "text/plain": [
       "                    Time Driver DriverNumber                LapTime  \\\n",
       "0 0 days 00:57:41.632000    VER            1 0 days 00:01:34.725000   \n",
       "\n",
       "   LapNumber  Stint PitOutTime PitInTime Sector1Time            Sector2Time  \\\n",
       "0        1.0    1.0        NaT       NaT         NaT 0 days 00:00:41.962000   \n",
       "\n",
       "   ... FreshTyre             Team           LapStartTime  \\\n",
       "0  ...      True  Red Bull Racing 0 days 00:56:06.651000   \n",
       "\n",
       "             LapStartDate  TrackStatus  Position  Deleted  DeletedReason  \\\n",
       "0 2025-04-06 05:03:47.081            1       1.0    False                  \n",
       "\n",
       "   FastF1Generated IsAccurate  \n",
       "0            False      False  \n",
       "\n",
       "[1 rows x 31 columns]"
      ]
     },
     "execution_count": 4,
     "metadata": {},
     "output_type": "execute_result"
    }
   ],
   "source": [
    "session.laps.head(1)"
   ]
  },
  {
   "cell_type": "code",
   "execution_count": 5,
   "id": "fe4ff08c-192e-4dad-a3b4-aeedf5ef6b30",
   "metadata": {
    "tags": []
   },
   "outputs": [
    {
     "name": "stdout",
     "output_type": "stream",
     "text": [
      "1059\n"
     ]
    },
    {
     "data": {
      "text/plain": [
       "PitOutTime            1038\n",
       "PitInTime             1038\n",
       "Sector1Time             20\n",
       "Sector1SessionTime      26\n",
       "SpeedI1                250\n",
       "SpeedFL                 21\n",
       "dtype: int64"
      ]
     },
     "execution_count": 5,
     "metadata": {},
     "output_type": "execute_result"
    }
   ],
   "source": [
    "# Todo: count of FastF1Generated, IsAccurate, Deleted, missing values\n",
    "print(len(session.laps))\n",
    "session.laps.isna().sum()[session.laps.isna().sum() > 0]"
   ]
  },
  {
   "cell_type": "markdown",
   "id": "103fe3dd-f4af-4e99-b586-1ad7178e5cfe",
   "metadata": {},
   "source": [
    "The missing PitOut/PitInTimes and SpeedFL times make sense considering that each lap should only have one or the other, and the number of missing values between these 2 categories add up to the total number of laps. I am not sure why there are missing values for the other attributes, which means the data is likely incomplete here. <br>\n",
    "The laps frame is verified to be complete as well (race length of 53 laps times 20 drivers makes for a total of 1060 laps, and one driver was lapped during the race, meaning he has 1 less lap total)"
   ]
  },
  {
   "cell_type": "code",
   "execution_count": 6,
   "id": "91e688f1-d3b2-4a90-ab60-d90d4c7ef9de",
   "metadata": {
    "tags": []
   },
   "outputs": [
    {
     "data": {
      "text/plain": [
       "FastF1Generated\n",
       "False    1059\n",
       "Name: count, dtype: int64"
      ]
     },
     "execution_count": 6,
     "metadata": {},
     "output_type": "execute_result"
    }
   ],
   "source": [
    "session.laps[\"FastF1Generated\"].value_counts()  # For any actual training/testing, FastF1Generated data will not be used"
   ]
  },
  {
   "cell_type": "code",
   "execution_count": 7,
   "id": "e1800148-74bc-4625-ba80-b4217808f278",
   "metadata": {
    "tags": []
   },
   "outputs": [
    {
     "data": {
      "text/plain": [
       "IsAccurate\n",
       "True     997\n",
       "False     62\n",
       "Name: count, dtype: int64"
      ]
     },
     "execution_count": 7,
     "metadata": {},
     "output_type": "execute_result"
    }
   ],
   "source": [
    "session.laps[\"IsAccurate\"].value_counts()"
   ]
  },
  {
   "cell_type": "markdown",
   "id": "e7eb5eff-e3a3-4df4-b1ff-ea616aafda49",
   "metadata": {},
   "source": [
    "IsAccurate merely refers to lap start times, lap end times, and lap times being consistent, whereas a LapTime is accurate if it exists. Therefore as long as we don't use lap start and end times, this variable shouldn't matter"
   ]
  },
  {
   "cell_type": "code",
   "execution_count": 8,
   "id": "26f307fd-3a0a-47af-b402-9281478eac11",
   "metadata": {
    "tags": []
   },
   "outputs": [
    {
     "data": {
      "text/plain": [
       "Deleted\n",
       "False    1051\n",
       "True        8\n",
       "Name: count, dtype: int64"
      ]
     },
     "execution_count": 8,
     "metadata": {},
     "output_type": "execute_result"
    }
   ],
   "source": [
    "session.laps[\"Deleted\"].value_counts()  # Deleted laps as far as I'm aware only happen when exceeding track limits. TODO: figure out whether to disregard deleted laps or to differentiate them from other laps in modeling"
   ]
  },
  {
   "cell_type": "code",
   "execution_count": 9,
   "id": "55e28723-9595-4915-8470-09d83ea028fc",
   "metadata": {
    "tags": []
   },
   "outputs": [
    {
     "data": {
      "text/plain": [
       "DeletedReason\n",
       "                                   1051\n",
       "TRACK LIMITS AT TURN 17 LAP 53        2\n",
       "TRACK LIMITS AT TURN 17 LAP 33        1\n",
       "TRACK LIMITS AT TURN 17 LAP 2         1\n",
       "TRACK LIMITS AT TURN 17 LAP 47        1\n",
       "TRACK LIMITS AT TURN 17 LAP 26        1\n",
       "TRACK LIMITS AT TURN 17 LAP 15        1\n",
       "TRACK LIMITS AT TURN 17 LAP 25        1\n",
       "Name: count, dtype: int64"
      ]
     },
     "execution_count": 9,
     "metadata": {},
     "output_type": "execute_result"
    }
   ],
   "source": [
    "session.laps[\"DeletedReason\"].value_counts()"
   ]
  },
  {
   "cell_type": "code",
   "execution_count": 10,
   "id": "4ae195da-b37f-44d5-89f1-fb8c59d7e857",
   "metadata": {
    "tags": []
   },
   "outputs": [
    {
     "data": {
      "text/plain": [
       "TrackStatus\n",
       "1    1059\n",
       "Name: count, dtype: int64"
      ]
     },
     "execution_count": 10,
     "metadata": {},
     "output_type": "execute_result"
    }
   ],
   "source": [
    "session.laps[\"TrackStatus\"].value_counts()  # We will have to label laps with track status != 1 differently, as drivers will most likely not be driving quickly on those laps"
   ]
  },
  {
   "cell_type": "code",
   "execution_count": 11,
   "id": "54fd5bac-c803-45b6-ad31-0f521d04f887",
   "metadata": {
    "tags": []
   },
   "outputs": [
    {
     "data": {
      "image/png": "[encoded data removed]",
      "text/plain": [
       "<Figure size 640x480 with 1 Axes>"
      ]
     },
     "metadata": {},
     "output_type": "display_data"
    }
   ],
   "source": [
    "plt.hist(session.laps[\"LapTime\"].dt.total_seconds(), bins = 20)\n",
    "plt.ylabel(\"Count\")\n",
    "plt.xlabel(\"Lap Time (s)\")\n",
    "plt.title(\"Distribution of Lap Times\")\n",
    "plt.show()"
   ]
  },
  {
   "cell_type": "code",
   "execution_count": 12,
   "id": "c4fd98fb-0526-4fde-ac65-072f0900dadf",
   "metadata": {
    "tags": []
   },
   "outputs": [
    {
     "data": {
      "image/png": "[encoded data removed]",
      "text/plain": [
       "<Figure size 640x480 with 1 Axes>"
      ]
     },
     "metadata": {},
     "output_type": "display_data"
    }
   ],
   "source": [
    "plt.hist(session.laps[\"LapTime\"].dt.total_seconds(), bins = 20, range = (session.laps[\"LapTime\"].dt.total_seconds().min(), 97.5))\n",
    "plt.ylabel(\"Count\")\n",
    "plt.xlabel(\"Lap Time (s)\")\n",
    "plt.title(\"Distribution of Lap Times (without outliers)\")\n",
    "plt.show()"
   ]
  },
  {
   "cell_type": "code",
   "execution_count": 13,
   "id": "b22e6e09-c542-4cdd-bb24-15f6893ce624",
   "metadata": {
    "collapsed": true,
    "jupyter": {
     "outputs_hidden": true
    },
    "tags": []
   },
   "outputs": [
    {
     "data": {
      "text/html": [
       "<div>\n",
       "<style scoped>\n",
       "    .dataframe tbody tr th:only-of-type {\n",
       "        vertical-align: middle;\n",
       "    }\n",
       "\n",
       "    .dataframe tbody tr th {\n",
       "        vertical-align: top;\n",
       "    }\n",
       "\n",
       "    .dataframe thead th {\n",
       "        text-align: right;\n",
       "    }\n",
       "</style>\n",
       "<table border=\"1\" class=\"dataframe\">\n",
       "  <thead>\n",
       "    <tr style=\"text-align: right;\">\n",
       "      <th></th>\n",
       "      <th>Time</th>\n",
       "      <th>Driver</th>\n",
       "      <th>DriverNumber</th>\n",
       "      <th>LapTime</th>\n",
       "      <th>LapNumber</th>\n",
       "      <th>Stint</th>\n",
       "      <th>PitOutTime</th>\n",
       "      <th>PitInTime</th>\n",
       "      <th>Sector1Time</th>\n",
       "      <th>Sector2Time</th>\n",
       "      <th>...</th>\n",
       "      <th>FreshTyre</th>\n",
       "      <th>Team</th>\n",
       "      <th>LapStartTime</th>\n",
       "      <th>LapStartDate</th>\n",
       "      <th>TrackStatus</th>\n",
       "      <th>Position</th>\n",
       "      <th>Deleted</th>\n",
       "      <th>DeletedReason</th>\n",
       "      <th>FastF1Generated</th>\n",
       "      <th>IsAccurate</th>\n",
       "    </tr>\n",
       "  </thead>\n",
       "  <tbody>\n",
       "    <tr>\n",
       "      <th>21</th>\n",
       "      <td>0 days 01:30:48.101000</td>\n",
       "      <td>VER</td>\n",
       "      <td>1</td>\n",
       "      <td>0 days 00:01:54.078000</td>\n",
       "      <td>22.0</td>\n",
       "      <td>2.0</td>\n",
       "      <td>0 days 01:29:17.340000</td>\n",
       "      <td>NaT</td>\n",
       "      <td>0 days 00:00:54.295000</td>\n",
       "      <td>0 days 00:00:41.802000</td>\n",
       "      <td>...</td>\n",
       "      <td>True</td>\n",
       "      <td>Red Bull Racing</td>\n",
       "      <td>0 days 01:28:54.023000</td>\n",
       "      <td>2025-04-06 05:36:34.453</td>\n",
       "      <td>1</td>\n",
       "      <td>5.0</td>\n",
       "      <td>False</td>\n",
       "      <td></td>\n",
       "      <td>False</td>\n",
       "      <td>False</td>\n",
       "    </tr>\n",
       "    <tr>\n",
       "      <th>74</th>\n",
       "      <td>0 days 01:30:50.149000</td>\n",
       "      <td>NOR</td>\n",
       "      <td>4</td>\n",
       "      <td>0 days 00:01:54.797000</td>\n",
       "      <td>22.0</td>\n",
       "      <td>2.0</td>\n",
       "      <td>0 days 01:29:17.403000</td>\n",
       "      <td>NaT</td>\n",
       "      <td>0 days 00:00:54.865000</td>\n",
       "      <td>0 days 00:00:41.955000</td>\n",
       "      <td>...</td>\n",
       "      <td>True</td>\n",
       "      <td>McLaren</td>\n",
       "      <td>0 days 01:28:55.352000</td>\n",
       "      <td>2025-04-06 05:36:35.782</td>\n",
       "      <td>1</td>\n",
       "      <td>6.0</td>\n",
       "      <td>False</td>\n",
       "      <td></td>\n",
       "      <td>False</td>\n",
       "      <td>False</td>\n",
       "    </tr>\n",
       "    <tr>\n",
       "      <th>126</th>\n",
       "      <td>0 days 01:29:18.113000</td>\n",
       "      <td>PIA</td>\n",
       "      <td>81</td>\n",
       "      <td>0 days 00:01:53.035000</td>\n",
       "      <td>21.0</td>\n",
       "      <td>2.0</td>\n",
       "      <td>0 days 01:27:46.796000</td>\n",
       "      <td>NaT</td>\n",
       "      <td>0 days 00:00:53.115000</td>\n",
       "      <td>0 days 00:00:41.802000</td>\n",
       "      <td>...</td>\n",
       "      <td>True</td>\n",
       "      <td>McLaren</td>\n",
       "      <td>0 days 01:27:25.078000</td>\n",
       "      <td>2025-04-06 05:35:05.508</td>\n",
       "      <td>1</td>\n",
       "      <td>9.0</td>\n",
       "      <td>False</td>\n",
       "      <td></td>\n",
       "      <td>False</td>\n",
       "      <td>False</td>\n",
       "    </tr>\n",
       "    <tr>\n",
       "      <th>180</th>\n",
       "      <td>0 days 01:30:55.162000</td>\n",
       "      <td>LEC</td>\n",
       "      <td>16</td>\n",
       "      <td>0 days 00:01:53.611000</td>\n",
       "      <td>22.0</td>\n",
       "      <td>2.0</td>\n",
       "      <td>0 days 01:29:23.559000</td>\n",
       "      <td>NaT</td>\n",
       "      <td>0 days 00:00:54.102000</td>\n",
       "      <td>0 days 00:00:41.743000</td>\n",
       "      <td>...</td>\n",
       "      <td>True</td>\n",
       "      <td>Ferrari</td>\n",
       "      <td>0 days 01:29:01.551000</td>\n",
       "      <td>2025-04-06 05:36:41.981</td>\n",
       "      <td>1</td>\n",
       "      <td>10.0</td>\n",
       "      <td>False</td>\n",
       "      <td></td>\n",
       "      <td>False</td>\n",
       "      <td>False</td>\n",
       "    </tr>\n",
       "    <tr>\n",
       "      <th>231</th>\n",
       "      <td>0 days 01:27:49.714000</td>\n",
       "      <td>RUS</td>\n",
       "      <td>63</td>\n",
       "      <td>0 days 00:01:52.912000</td>\n",
       "      <td>20.0</td>\n",
       "      <td>2.0</td>\n",
       "      <td>0 days 01:26:18.644000</td>\n",
       "      <td>NaT</td>\n",
       "      <td>0 days 00:00:53.463000</td>\n",
       "      <td>0 days 00:00:41.515000</td>\n",
       "      <td>...</td>\n",
       "      <td>True</td>\n",
       "      <td>Mercedes</td>\n",
       "      <td>0 days 01:25:56.802000</td>\n",
       "      <td>2025-04-06 05:33:37.232</td>\n",
       "      <td>1</td>\n",
       "      <td>13.0</td>\n",
       "      <td>False</td>\n",
       "      <td></td>\n",
       "      <td>False</td>\n",
       "      <td>False</td>\n",
       "    </tr>\n",
       "    <tr>\n",
       "      <th>296</th>\n",
       "      <td>0 days 01:46:33.264000</td>\n",
       "      <td>ANT</td>\n",
       "      <td>12</td>\n",
       "      <td>0 days 00:01:55.527000</td>\n",
       "      <td>32.0</td>\n",
       "      <td>2.0</td>\n",
       "      <td>0 days 01:45:00.814000</td>\n",
       "      <td>NaT</td>\n",
       "      <td>0 days 00:00:55.864000</td>\n",
       "      <td>0 days 00:00:41.899000</td>\n",
       "      <td>...</td>\n",
       "      <td>True</td>\n",
       "      <td>Mercedes</td>\n",
       "      <td>0 days 01:44:37.737000</td>\n",
       "      <td>2025-04-06 05:52:18.167</td>\n",
       "      <td>1</td>\n",
       "      <td>6.0</td>\n",
       "      <td>False</td>\n",
       "      <td></td>\n",
       "      <td>False</td>\n",
       "      <td>False</td>\n",
       "    </tr>\n",
       "    <tr>\n",
       "      <th>318</th>\n",
       "      <td>0 days 00:57:47.186000</td>\n",
       "      <td>HAM</td>\n",
       "      <td>44</td>\n",
       "      <td>0 days 00:01:40.279000</td>\n",
       "      <td>1.0</td>\n",
       "      <td>1.0</td>\n",
       "      <td>NaT</td>\n",
       "      <td>NaT</td>\n",
       "      <td>NaT</td>\n",
       "      <td>0 days 00:00:43.278000</td>\n",
       "      <td>...</td>\n",
       "      <td>True</td>\n",
       "      <td>Ferrari</td>\n",
       "      <td>0 days 00:56:06.651000</td>\n",
       "      <td>2025-04-06 05:03:47.081</td>\n",
       "      <td>1</td>\n",
       "      <td>8.0</td>\n",
       "      <td>False</td>\n",
       "      <td></td>\n",
       "      <td>False</td>\n",
       "      <td>False</td>\n",
       "    </tr>\n",
       "    <tr>\n",
       "      <th>348</th>\n",
       "      <td>0 days 01:45:02.180000</td>\n",
       "      <td>HAM</td>\n",
       "      <td>44</td>\n",
       "      <td>0 days 00:01:52.362000</td>\n",
       "      <td>31.0</td>\n",
       "      <td>2.0</td>\n",
       "      <td>0 days 01:43:31.485000</td>\n",
       "      <td>NaT</td>\n",
       "      <td>0 days 00:00:52.756000</td>\n",
       "      <td>0 days 00:00:41.789000</td>\n",
       "      <td>...</td>\n",
       "      <td>True</td>\n",
       "      <td>Ferrari</td>\n",
       "      <td>0 days 01:43:09.818000</td>\n",
       "      <td>2025-04-06 05:50:50.248</td>\n",
       "      <td>1</td>\n",
       "      <td>7.0</td>\n",
       "      <td>False</td>\n",
       "      <td></td>\n",
       "      <td>False</td>\n",
       "      <td>False</td>\n",
       "    </tr>\n",
       "    <tr>\n",
       "      <th>396</th>\n",
       "      <td>0 days 01:37:22.794000</td>\n",
       "      <td>HAD</td>\n",
       "      <td>6</td>\n",
       "      <td>0 days 00:01:55.586000</td>\n",
       "      <td>26.0</td>\n",
       "      <td>2.0</td>\n",
       "      <td>0 days 01:35:49.203000</td>\n",
       "      <td>NaT</td>\n",
       "      <td>0 days 00:00:55.181000</td>\n",
       "      <td>0 days 00:00:42.396000</td>\n",
       "      <td>...</td>\n",
       "      <td>True</td>\n",
       "      <td>Racing Bulls</td>\n",
       "      <td>0 days 01:35:27.208000</td>\n",
       "      <td>2025-04-06 05:43:07.638</td>\n",
       "      <td>1</td>\n",
       "      <td>10.0</td>\n",
       "      <td>False</td>\n",
       "      <td></td>\n",
       "      <td>False</td>\n",
       "      <td>False</td>\n",
       "    </tr>\n",
       "    <tr>\n",
       "      <th>424</th>\n",
       "      <td>0 days 00:57:47.693000</td>\n",
       "      <td>ALB</td>\n",
       "      <td>23</td>\n",
       "      <td>0 days 00:01:40.786000</td>\n",
       "      <td>1.0</td>\n",
       "      <td>1.0</td>\n",
       "      <td>NaT</td>\n",
       "      <td>NaT</td>\n",
       "      <td>NaT</td>\n",
       "      <td>0 days 00:00:43.689000</td>\n",
       "      <td>...</td>\n",
       "      <td>True</td>\n",
       "      <td>Williams</td>\n",
       "      <td>0 days 00:56:06.651000</td>\n",
       "      <td>2025-04-06 05:03:47.081</td>\n",
       "      <td>1</td>\n",
       "      <td>9.0</td>\n",
       "      <td>False</td>\n",
       "      <td></td>\n",
       "      <td>False</td>\n",
       "      <td>False</td>\n",
       "    </tr>\n",
       "    <tr>\n",
       "      <th>448</th>\n",
       "      <td>0 days 01:35:53.165000</td>\n",
       "      <td>ALB</td>\n",
       "      <td>23</td>\n",
       "      <td>0 days 00:01:55.756000</td>\n",
       "      <td>25.0</td>\n",
       "      <td>2.0</td>\n",
       "      <td>0 days 01:34:19.218000</td>\n",
       "      <td>NaT</td>\n",
       "      <td>0 days 00:00:54.966000</td>\n",
       "      <td>0 days 00:00:42.636000</td>\n",
       "      <td>...</td>\n",
       "      <td>True</td>\n",
       "      <td>Williams</td>\n",
       "      <td>0 days 01:33:57.409000</td>\n",
       "      <td>2025-04-06 05:41:37.839</td>\n",
       "      <td>1</td>\n",
       "      <td>13.0</td>\n",
       "      <td>False</td>\n",
       "      <td></td>\n",
       "      <td>False</td>\n",
       "      <td>False</td>\n",
       "    </tr>\n",
       "    <tr>\n",
       "      <th>477</th>\n",
       "      <td>0 days 00:57:48.182000</td>\n",
       "      <td>BEA</td>\n",
       "      <td>87</td>\n",
       "      <td>0 days 00:01:41.275000</td>\n",
       "      <td>1.0</td>\n",
       "      <td>1.0</td>\n",
       "      <td>NaT</td>\n",
       "      <td>NaT</td>\n",
       "      <td>NaT</td>\n",
       "      <td>0 days 00:00:43.761000</td>\n",
       "      <td>...</td>\n",
       "      <td>True</td>\n",
       "      <td>Haas F1 Team</td>\n",
       "      <td>0 days 00:56:06.651000</td>\n",
       "      <td>2025-04-06 05:03:47.081</td>\n",
       "      <td>1</td>\n",
       "      <td>10.0</td>\n",
       "      <td>False</td>\n",
       "      <td></td>\n",
       "      <td>False</td>\n",
       "      <td>False</td>\n",
       "    </tr>\n",
       "    <tr>\n",
       "      <th>500</th>\n",
       "      <td>0 days 01:34:23.680000</td>\n",
       "      <td>BEA</td>\n",
       "      <td>87</td>\n",
       "      <td>0 days 00:01:54.602000</td>\n",
       "      <td>24.0</td>\n",
       "      <td>2.0</td>\n",
       "      <td>0 days 01:32:52.623000</td>\n",
       "      <td>NaT</td>\n",
       "      <td>0 days 00:00:54.735000</td>\n",
       "      <td>0 days 00:00:41.850000</td>\n",
       "      <td>...</td>\n",
       "      <td>False</td>\n",
       "      <td>Haas F1 Team</td>\n",
       "      <td>0 days 01:32:29.078000</td>\n",
       "      <td>2025-04-06 05:40:09.508</td>\n",
       "      <td>1</td>\n",
       "      <td>16.0</td>\n",
       "      <td>False</td>\n",
       "      <td></td>\n",
       "      <td>False</td>\n",
       "      <td>False</td>\n",
       "    </tr>\n",
       "    <tr>\n",
       "      <th>530</th>\n",
       "      <td>0 days 00:57:48.955000</td>\n",
       "      <td>ALO</td>\n",
       "      <td>14</td>\n",
       "      <td>0 days 00:01:42.048000</td>\n",
       "      <td>1.0</td>\n",
       "      <td>1.0</td>\n",
       "      <td>NaT</td>\n",
       "      <td>NaT</td>\n",
       "      <td>NaT</td>\n",
       "      <td>0 days 00:00:44.081000</td>\n",
       "      <td>...</td>\n",
       "      <td>False</td>\n",
       "      <td>Aston Martin</td>\n",
       "      <td>0 days 00:56:06.651000</td>\n",
       "      <td>2025-04-06 05:03:47.081</td>\n",
       "      <td>1</td>\n",
       "      <td>11.0</td>\n",
       "      <td>False</td>\n",
       "      <td></td>\n",
       "      <td>False</td>\n",
       "      <td>False</td>\n",
       "    </tr>\n",
       "    <tr>\n",
       "      <th>554</th>\n",
       "      <td>0 days 01:36:03.059000</td>\n",
       "      <td>ALO</td>\n",
       "      <td>14</td>\n",
       "      <td>0 days 00:01:56.535000</td>\n",
       "      <td>25.0</td>\n",
       "      <td>2.0</td>\n",
       "      <td>0 days 01:34:30.931000</td>\n",
       "      <td>NaT</td>\n",
       "      <td>0 days 00:00:56.212000</td>\n",
       "      <td>0 days 00:00:42.200000</td>\n",
       "      <td>...</td>\n",
       "      <td>False</td>\n",
       "      <td>Aston Martin</td>\n",
       "      <td>0 days 01:34:06.524000</td>\n",
       "      <td>2025-04-06 05:41:46.954</td>\n",
       "      <td>1</td>\n",
       "      <td>15.0</td>\n",
       "      <td>False</td>\n",
       "      <td></td>\n",
       "      <td>False</td>\n",
       "      <td>False</td>\n",
       "    </tr>\n",
       "    <tr>\n",
       "      <th>583</th>\n",
       "      <td>0 days 00:57:49.769000</td>\n",
       "      <td>TSU</td>\n",
       "      <td>22</td>\n",
       "      <td>0 days 00:01:42.862000</td>\n",
       "      <td>1.0</td>\n",
       "      <td>1.0</td>\n",
       "      <td>NaT</td>\n",
       "      <td>NaT</td>\n",
       "      <td>NaT</td>\n",
       "      <td>0 days 00:00:43.772000</td>\n",
       "      <td>...</td>\n",
       "      <td>True</td>\n",
       "      <td>Red Bull Racing</td>\n",
       "      <td>0 days 00:56:06.651000</td>\n",
       "      <td>2025-04-06 05:03:47.081</td>\n",
       "      <td>1</td>\n",
       "      <td>13.0</td>\n",
       "      <td>False</td>\n",
       "      <td></td>\n",
       "      <td>False</td>\n",
       "      <td>False</td>\n",
       "    </tr>\n",
       "    <tr>\n",
       "      <th>606</th>\n",
       "      <td>0 days 01:34:29.991000</td>\n",
       "      <td>TSU</td>\n",
       "      <td>22</td>\n",
       "      <td>0 days 00:01:54.579000</td>\n",
       "      <td>24.0</td>\n",
       "      <td>2.0</td>\n",
       "      <td>0 days 01:32:58.280000</td>\n",
       "      <td>NaT</td>\n",
       "      <td>0 days 00:00:54.637000</td>\n",
       "      <td>0 days 00:00:41.887000</td>\n",
       "      <td>...</td>\n",
       "      <td>True</td>\n",
       "      <td>Red Bull Racing</td>\n",
       "      <td>0 days 01:32:35.412000</td>\n",
       "      <td>2025-04-06 05:40:15.842</td>\n",
       "      <td>1</td>\n",
       "      <td>17.0</td>\n",
       "      <td>False</td>\n",
       "      <td></td>\n",
       "      <td>False</td>\n",
       "      <td>False</td>\n",
       "    </tr>\n",
       "    <tr>\n",
       "      <th>636</th>\n",
       "      <td>0 days 00:57:49.334000</td>\n",
       "      <td>GAS</td>\n",
       "      <td>10</td>\n",
       "      <td>0 days 00:01:42.427000</td>\n",
       "      <td>1.0</td>\n",
       "      <td>1.0</td>\n",
       "      <td>NaT</td>\n",
       "      <td>NaT</td>\n",
       "      <td>NaT</td>\n",
       "      <td>0 days 00:00:43.741000</td>\n",
       "      <td>...</td>\n",
       "      <td>True</td>\n",
       "      <td>Alpine</td>\n",
       "      <td>0 days 00:56:06.651000</td>\n",
       "      <td>2025-04-06 05:03:47.081</td>\n",
       "      <td>1</td>\n",
       "      <td>12.0</td>\n",
       "      <td>False</td>\n",
       "      <td></td>\n",
       "      <td>False</td>\n",
       "      <td>False</td>\n",
       "    </tr>\n",
       "    <tr>\n",
       "      <th>660</th>\n",
       "      <td>0 days 01:36:09.790000</td>\n",
       "      <td>GAS</td>\n",
       "      <td>10</td>\n",
       "      <td>0 days 00:02:00.106000</td>\n",
       "      <td>25.0</td>\n",
       "      <td>2.0</td>\n",
       "      <td>0 days 01:34:34.347000</td>\n",
       "      <td>NaT</td>\n",
       "      <td>0 days 00:00:58.568000</td>\n",
       "      <td>0 days 00:00:43.264000</td>\n",
       "      <td>...</td>\n",
       "      <td>True</td>\n",
       "      <td>Alpine</td>\n",
       "      <td>0 days 01:34:09.684000</td>\n",
       "      <td>2025-04-06 05:41:50.114</td>\n",
       "      <td>1</td>\n",
       "      <td>18.0</td>\n",
       "      <td>False</td>\n",
       "      <td></td>\n",
       "      <td>False</td>\n",
       "      <td>False</td>\n",
       "    </tr>\n",
       "    <tr>\n",
       "      <th>689</th>\n",
       "      <td>0 days 00:57:51.113000</td>\n",
       "      <td>SAI</td>\n",
       "      <td>55</td>\n",
       "      <td>0 days 00:01:44.206000</td>\n",
       "      <td>1.0</td>\n",
       "      <td>1.0</td>\n",
       "      <td>NaT</td>\n",
       "      <td>NaT</td>\n",
       "      <td>NaT</td>\n",
       "      <td>0 days 00:00:44.306000</td>\n",
       "      <td>...</td>\n",
       "      <td>True</td>\n",
       "      <td>Williams</td>\n",
       "      <td>0 days 00:56:06.651000</td>\n",
       "      <td>2025-04-06 05:03:47.081</td>\n",
       "      <td>1</td>\n",
       "      <td>16.0</td>\n",
       "      <td>False</td>\n",
       "      <td></td>\n",
       "      <td>False</td>\n",
       "      <td>False</td>\n",
       "    </tr>\n",
       "    <tr>\n",
       "      <th>722</th>\n",
       "      <td>0 days 01:50:17.571000</td>\n",
       "      <td>SAI</td>\n",
       "      <td>55</td>\n",
       "      <td>0 days 00:01:52.958000</td>\n",
       "      <td>34.0</td>\n",
       "      <td>2.0</td>\n",
       "      <td>0 days 01:48:46.603000</td>\n",
       "      <td>NaT</td>\n",
       "      <td>0 days 00:00:53.380000</td>\n",
       "      <td>0 days 00:00:41.651000</td>\n",
       "      <td>...</td>\n",
       "      <td>True</td>\n",
       "      <td>Williams</td>\n",
       "      <td>0 days 01:48:24.613000</td>\n",
       "      <td>2025-04-06 05:56:05.043</td>\n",
       "      <td>1</td>\n",
       "      <td>17.0</td>\n",
       "      <td>False</td>\n",
       "      <td></td>\n",
       "      <td>False</td>\n",
       "      <td>False</td>\n",
       "    </tr>\n",
       "    <tr>\n",
       "      <th>742</th>\n",
       "      <td>0 days 00:57:52.209000</td>\n",
       "      <td>DOO</td>\n",
       "      <td>7</td>\n",
       "      <td>0 days 00:01:45.302000</td>\n",
       "      <td>1.0</td>\n",
       "      <td>1.0</td>\n",
       "      <td>NaT</td>\n",
       "      <td>NaT</td>\n",
       "      <td>NaT</td>\n",
       "      <td>0 days 00:00:44.379000</td>\n",
       "      <td>...</td>\n",
       "      <td>True</td>\n",
       "      <td>Alpine</td>\n",
       "      <td>0 days 00:56:06.651000</td>\n",
       "      <td>2025-04-06 05:03:47.081</td>\n",
       "      <td>1</td>\n",
       "      <td>18.0</td>\n",
       "      <td>False</td>\n",
       "      <td></td>\n",
       "      <td>False</td>\n",
       "      <td>False</td>\n",
       "    </tr>\n",
       "    <tr>\n",
       "      <th>757</th>\n",
       "      <td>0 days 01:22:02.872000</td>\n",
       "      <td>DOO</td>\n",
       "      <td>7</td>\n",
       "      <td>0 days 00:01:54.570000</td>\n",
       "      <td>16.0</td>\n",
       "      <td>2.0</td>\n",
       "      <td>0 days 01:20:30.403000</td>\n",
       "      <td>NaT</td>\n",
       "      <td>0 days 00:00:54.025000</td>\n",
       "      <td>0 days 00:00:42.289000</td>\n",
       "      <td>...</td>\n",
       "      <td>True</td>\n",
       "      <td>Alpine</td>\n",
       "      <td>0 days 01:20:08.302000</td>\n",
       "      <td>2025-04-06 05:27:48.732</td>\n",
       "      <td>1</td>\n",
       "      <td>19.0</td>\n",
       "      <td>False</td>\n",
       "      <td></td>\n",
       "      <td>False</td>\n",
       "      <td>False</td>\n",
       "    </tr>\n",
       "    <tr>\n",
       "      <th>795</th>\n",
       "      <td>0 days 00:57:50.765000</td>\n",
       "      <td>HUL</td>\n",
       "      <td>27</td>\n",
       "      <td>0 days 00:01:43.858000</td>\n",
       "      <td>1.0</td>\n",
       "      <td>1.0</td>\n",
       "      <td>NaT</td>\n",
       "      <td>NaT</td>\n",
       "      <td>NaT</td>\n",
       "      <td>0 days 00:00:44.057000</td>\n",
       "      <td>...</td>\n",
       "      <td>True</td>\n",
       "      <td>Kick Sauber</td>\n",
       "      <td>0 days 00:56:06.651000</td>\n",
       "      <td>2025-04-06 05:03:47.081</td>\n",
       "      <td>1</td>\n",
       "      <td>15.0</td>\n",
       "      <td>False</td>\n",
       "      <td></td>\n",
       "      <td>False</td>\n",
       "      <td>False</td>\n",
       "    </tr>\n",
       "    <tr>\n",
       "      <th>817</th>\n",
       "      <td>0 days 01:33:00.683000</td>\n",
       "      <td>HUL</td>\n",
       "      <td>27</td>\n",
       "      <td>0 days 00:01:54.468000</td>\n",
       "      <td>23.0</td>\n",
       "      <td>2.0</td>\n",
       "      <td>0 days 01:31:28.716000</td>\n",
       "      <td>NaT</td>\n",
       "      <td>0 days 00:00:54.304000</td>\n",
       "      <td>0 days 00:00:42.053000</td>\n",
       "      <td>...</td>\n",
       "      <td>True</td>\n",
       "      <td>Kick Sauber</td>\n",
       "      <td>0 days 01:31:06.215000</td>\n",
       "      <td>2025-04-06 05:38:46.645</td>\n",
       "      <td>1</td>\n",
       "      <td>19.0</td>\n",
       "      <td>False</td>\n",
       "      <td></td>\n",
       "      <td>False</td>\n",
       "      <td>False</td>\n",
       "    </tr>\n",
       "    <tr>\n",
       "      <th>848</th>\n",
       "      <td>0 days 00:57:50.370000</td>\n",
       "      <td>LAW</td>\n",
       "      <td>30</td>\n",
       "      <td>0 days 00:01:43.463000</td>\n",
       "      <td>1.0</td>\n",
       "      <td>1.0</td>\n",
       "      <td>NaT</td>\n",
       "      <td>NaT</td>\n",
       "      <td>NaT</td>\n",
       "      <td>0 days 00:00:44.632000</td>\n",
       "      <td>...</td>\n",
       "      <td>True</td>\n",
       "      <td>Racing Bulls</td>\n",
       "      <td>0 days 00:56:06.651000</td>\n",
       "      <td>2025-04-06 05:03:47.081</td>\n",
       "      <td>1</td>\n",
       "      <td>14.0</td>\n",
       "      <td>False</td>\n",
       "      <td></td>\n",
       "      <td>False</td>\n",
       "      <td>False</td>\n",
       "    </tr>\n",
       "    <tr>\n",
       "      <th>881</th>\n",
       "      <td>0 days 01:50:16.666000</td>\n",
       "      <td>LAW</td>\n",
       "      <td>30</td>\n",
       "      <td>0 days 00:01:54.236000</td>\n",
       "      <td>34.0</td>\n",
       "      <td>2.0</td>\n",
       "      <td>0 days 01:48:44.728000</td>\n",
       "      <td>NaT</td>\n",
       "      <td>0 days 00:00:54.354000</td>\n",
       "      <td>0 days 00:00:41.907000</td>\n",
       "      <td>...</td>\n",
       "      <td>True</td>\n",
       "      <td>Racing Bulls</td>\n",
       "      <td>0 days 01:48:22.430000</td>\n",
       "      <td>2025-04-06 05:56:02.860</td>\n",
       "      <td>1</td>\n",
       "      <td>16.0</td>\n",
       "      <td>False</td>\n",
       "      <td></td>\n",
       "      <td>False</td>\n",
       "      <td>False</td>\n",
       "    </tr>\n",
       "    <tr>\n",
       "      <th>901</th>\n",
       "      <td>0 days 00:57:51.670000</td>\n",
       "      <td>OCO</td>\n",
       "      <td>31</td>\n",
       "      <td>0 days 00:01:44.763000</td>\n",
       "      <td>1.0</td>\n",
       "      <td>1.0</td>\n",
       "      <td>NaT</td>\n",
       "      <td>NaT</td>\n",
       "      <td>NaT</td>\n",
       "      <td>0 days 00:00:44.392000</td>\n",
       "      <td>...</td>\n",
       "      <td>False</td>\n",
       "      <td>Haas F1 Team</td>\n",
       "      <td>0 days 00:56:06.651000</td>\n",
       "      <td>2025-04-06 05:03:47.081</td>\n",
       "      <td>1</td>\n",
       "      <td>17.0</td>\n",
       "      <td>False</td>\n",
       "      <td></td>\n",
       "      <td>False</td>\n",
       "      <td>False</td>\n",
       "    </tr>\n",
       "    <tr>\n",
       "      <th>933</th>\n",
       "      <td>0 days 01:48:46.012000</td>\n",
       "      <td>OCO</td>\n",
       "      <td>31</td>\n",
       "      <td>0 days 00:01:54.834000</td>\n",
       "      <td>33.0</td>\n",
       "      <td>2.0</td>\n",
       "      <td>0 days 01:47:14.340000</td>\n",
       "      <td>NaT</td>\n",
       "      <td>0 days 00:00:54.741000</td>\n",
       "      <td>0 days 00:00:42.074000</td>\n",
       "      <td>...</td>\n",
       "      <td>True</td>\n",
       "      <td>Haas F1 Team</td>\n",
       "      <td>0 days 01:46:51.178000</td>\n",
       "      <td>2025-04-06 05:54:31.608</td>\n",
       "      <td>1</td>\n",
       "      <td>18.0</td>\n",
       "      <td>False</td>\n",
       "      <td></td>\n",
       "      <td>False</td>\n",
       "      <td>False</td>\n",
       "    </tr>\n",
       "    <tr>\n",
       "      <th>954</th>\n",
       "      <td>0 days 00:57:53.797000</td>\n",
       "      <td>BOR</td>\n",
       "      <td>5</td>\n",
       "      <td>0 days 00:01:46.890000</td>\n",
       "      <td>1.0</td>\n",
       "      <td>1.0</td>\n",
       "      <td>NaT</td>\n",
       "      <td>NaT</td>\n",
       "      <td>NaT</td>\n",
       "      <td>0 days 00:00:44.751000</td>\n",
       "      <td>...</td>\n",
       "      <td>True</td>\n",
       "      <td>Kick Sauber</td>\n",
       "      <td>0 days 00:56:06.651000</td>\n",
       "      <td>2025-04-06 05:03:47.081</td>\n",
       "      <td>1</td>\n",
       "      <td>20.0</td>\n",
       "      <td>False</td>\n",
       "      <td></td>\n",
       "      <td>False</td>\n",
       "      <td>False</td>\n",
       "    </tr>\n",
       "    <tr>\n",
       "      <th>985</th>\n",
       "      <td>0 days 01:47:14.567000</td>\n",
       "      <td>BOR</td>\n",
       "      <td>5</td>\n",
       "      <td>0 days 00:01:54.684000</td>\n",
       "      <td>32.0</td>\n",
       "      <td>2.0</td>\n",
       "      <td>0 days 01:45:41.939000</td>\n",
       "      <td>NaT</td>\n",
       "      <td>0 days 00:00:54.755000</td>\n",
       "      <td>0 days 00:00:41.961000</td>\n",
       "      <td>...</td>\n",
       "      <td>True</td>\n",
       "      <td>Kick Sauber</td>\n",
       "      <td>0 days 01:45:19.883000</td>\n",
       "      <td>2025-04-06 05:53:00.313</td>\n",
       "      <td>1</td>\n",
       "      <td>19.0</td>\n",
       "      <td>False</td>\n",
       "      <td></td>\n",
       "      <td>False</td>\n",
       "      <td>False</td>\n",
       "    </tr>\n",
       "    <tr>\n",
       "      <th>1007</th>\n",
       "      <td>0 days 00:57:53.010000</td>\n",
       "      <td>STR</td>\n",
       "      <td>18</td>\n",
       "      <td>0 days 00:01:46.103000</td>\n",
       "      <td>1.0</td>\n",
       "      <td>1.0</td>\n",
       "      <td>NaT</td>\n",
       "      <td>NaT</td>\n",
       "      <td>NaT</td>\n",
       "      <td>0 days 00:00:44.800000</td>\n",
       "      <td>...</td>\n",
       "      <td>True</td>\n",
       "      <td>Aston Martin</td>\n",
       "      <td>0 days 00:56:06.651000</td>\n",
       "      <td>2025-04-06 05:03:47.081</td>\n",
       "      <td>1</td>\n",
       "      <td>19.0</td>\n",
       "      <td>False</td>\n",
       "      <td></td>\n",
       "      <td>False</td>\n",
       "      <td>False</td>\n",
       "    </tr>\n",
       "    <tr>\n",
       "      <th>1016</th>\n",
       "      <td>0 days 01:12:34.982000</td>\n",
       "      <td>STR</td>\n",
       "      <td>18</td>\n",
       "      <td>0 days 00:01:55.207000</td>\n",
       "      <td>10.0</td>\n",
       "      <td>2.0</td>\n",
       "      <td>0 days 01:11:02.158000</td>\n",
       "      <td>NaT</td>\n",
       "      <td>0 days 00:00:54.304000</td>\n",
       "      <td>0 days 00:00:42.546000</td>\n",
       "      <td>...</td>\n",
       "      <td>False</td>\n",
       "      <td>Aston Martin</td>\n",
       "      <td>0 days 01:10:39.775000</td>\n",
       "      <td>2025-04-06 05:18:20.205</td>\n",
       "      <td>1</td>\n",
       "      <td>20.0</td>\n",
       "      <td>False</td>\n",
       "      <td></td>\n",
       "      <td>False</td>\n",
       "      <td>False</td>\n",
       "    </tr>\n",
       "    <tr>\n",
       "      <th>1037</th>\n",
       "      <td>0 days 01:45:57.203000</td>\n",
       "      <td>STR</td>\n",
       "      <td>18</td>\n",
       "      <td>0 days 00:01:53.370000</td>\n",
       "      <td>31.0</td>\n",
       "      <td>3.0</td>\n",
       "      <td>0 days 01:44:26.190000</td>\n",
       "      <td>NaT</td>\n",
       "      <td>0 days 00:00:53.300000</td>\n",
       "      <td>0 days 00:00:41.874000</td>\n",
       "      <td>...</td>\n",
       "      <td>False</td>\n",
       "      <td>Aston Martin</td>\n",
       "      <td>0 days 01:44:03.833000</td>\n",
       "      <td>2025-04-06 05:51:44.263</td>\n",
       "      <td>1</td>\n",
       "      <td>20.0</td>\n",
       "      <td>False</td>\n",
       "      <td></td>\n",
       "      <td>False</td>\n",
       "      <td>False</td>\n",
       "    </tr>\n",
       "  </tbody>\n",
       "</table>\n",
       "<p>34 rows × 31 columns</p>\n",
       "</div>"
      ],
      "text/plain": [
       "                       Time Driver DriverNumber                LapTime  \\\n",
       "21   0 days 01:30:48.101000    VER            1 0 days 00:01:54.078000   \n",
       "74   0 days 01:30:50.149000    NOR            4 0 days 00:01:54.797000   \n",
       "126  0 days 01:29:18.113000    PIA           81 0 days 00:01:53.035000   \n",
       "180  0 days 01:30:55.162000    LEC           16 0 days 00:01:53.611000   \n",
       "231  0 days 01:27:49.714000    RUS           63 0 days 00:01:52.912000   \n",
       "296  0 days 01:46:33.264000    ANT           12 0 days 00:01:55.527000   \n",
       "318  0 days 00:57:47.186000    HAM           44 0 days 00:01:40.279000   \n",
       "348  0 days 01:45:02.180000    HAM           44 0 days 00:01:52.362000   \n",
       "396  0 days 01:37:22.794000    HAD            6 0 days 00:01:55.586000   \n",
       "424  0 days 00:57:47.693000    ALB           23 0 days 00:01:40.786000   \n",
       "448  0 days 01:35:53.165000    ALB           23 0 days 00:01:55.756000   \n",
       "477  0 days 00:57:48.182000    BEA           87 0 days 00:01:41.275000   \n",
       "500  0 days 01:34:23.680000    BEA           87 0 days 00:01:54.602000   \n",
       "530  0 days 00:57:48.955000    ALO           14 0 days 00:01:42.048000   \n",
       "554  0 days 01:36:03.059000    ALO           14 0 days 00:01:56.535000   \n",
       "583  0 days 00:57:49.769000    TSU           22 0 days 00:01:42.862000   \n",
       "606  0 days 01:34:29.991000    TSU           22 0 days 00:01:54.579000   \n",
       "636  0 days 00:57:49.334000    GAS           10 0 days 00:01:42.427000   \n",
       "660  0 days 01:36:09.790000    GAS           10 0 days 00:02:00.106000   \n",
       "689  0 days 00:57:51.113000    SAI           55 0 days 00:01:44.206000   \n",
       "722  0 days 01:50:17.571000    SAI           55 0 days 00:01:52.958000   \n",
       "742  0 days 00:57:52.209000    DOO            7 0 days 00:01:45.302000   \n",
       "757  0 days 01:22:02.872000    DOO            7 0 days 00:01:54.570000   \n",
       "795  0 days 00:57:50.765000    HUL           27 0 days 00:01:43.858000   \n",
       "817  0 days 01:33:00.683000    HUL           27 0 days 00:01:54.468000   \n",
       "848  0 days 00:57:50.370000    LAW           30 0 days 00:01:43.463000   \n",
       "881  0 days 01:50:16.666000    LAW           30 0 days 00:01:54.236000   \n",
       "901  0 days 00:57:51.670000    OCO           31 0 days 00:01:44.763000   \n",
       "933  0 days 01:48:46.012000    OCO           31 0 days 00:01:54.834000   \n",
       "954  0 days 00:57:53.797000    BOR            5 0 days 00:01:46.890000   \n",
       "985  0 days 01:47:14.567000    BOR            5 0 days 00:01:54.684000   \n",
       "1007 0 days 00:57:53.010000    STR           18 0 days 00:01:46.103000   \n",
       "1016 0 days 01:12:34.982000    STR           18 0 days 00:01:55.207000   \n",
       "1037 0 days 01:45:57.203000    STR           18 0 days 00:01:53.370000   \n",
       "\n",
       "      LapNumber  Stint             PitOutTime PitInTime  \\\n",
       "21         22.0    2.0 0 days 01:29:17.340000       NaT   \n",
       "74         22.0    2.0 0 days 01:29:17.403000       NaT   \n",
       "126        21.0    2.0 0 days 01:27:46.796000       NaT   \n",
       "180        22.0    2.0 0 days 01:29:23.559000       NaT   \n",
       "231        20.0    2.0 0 days 01:26:18.644000       NaT   \n",
       "296        32.0    2.0 0 days 01:45:00.814000       NaT   \n",
       "318         1.0    1.0                    NaT       NaT   \n",
       "348        31.0    2.0 0 days 01:43:31.485000       NaT   \n",
       "396        26.0    2.0 0 days 01:35:49.203000       NaT   \n",
       "424         1.0    1.0                    NaT       NaT   \n",
       "448        25.0    2.0 0 days 01:34:19.218000       NaT   \n",
       "477         1.0    1.0                    NaT       NaT   \n",
       "500        24.0    2.0 0 days 01:32:52.623000       NaT   \n",
       "530         1.0    1.0                    NaT       NaT   \n",
       "554        25.0    2.0 0 days 01:34:30.931000       NaT   \n",
       "583         1.0    1.0                    NaT       NaT   \n",
       "606        24.0    2.0 0 days 01:32:58.280000       NaT   \n",
       "636         1.0    1.0                    NaT       NaT   \n",
       "660        25.0    2.0 0 days 01:34:34.347000       NaT   \n",
       "689         1.0    1.0                    NaT       NaT   \n",
       "722        34.0    2.0 0 days 01:48:46.603000       NaT   \n",
       "742         1.0    1.0                    NaT       NaT   \n",
       "757        16.0    2.0 0 days 01:20:30.403000       NaT   \n",
       "795         1.0    1.0                    NaT       NaT   \n",
       "817        23.0    2.0 0 days 01:31:28.716000       NaT   \n",
       "848         1.0    1.0                    NaT       NaT   \n",
       "881        34.0    2.0 0 days 01:48:44.728000       NaT   \n",
       "901         1.0    1.0                    NaT       NaT   \n",
       "933        33.0    2.0 0 days 01:47:14.340000       NaT   \n",
       "954         1.0    1.0                    NaT       NaT   \n",
       "985        32.0    2.0 0 days 01:45:41.939000       NaT   \n",
       "1007        1.0    1.0                    NaT       NaT   \n",
       "1016       10.0    2.0 0 days 01:11:02.158000       NaT   \n",
       "1037       31.0    3.0 0 days 01:44:26.190000       NaT   \n",
       "\n",
       "                Sector1Time            Sector2Time  ... FreshTyre  \\\n",
       "21   0 days 00:00:54.295000 0 days 00:00:41.802000  ...      True   \n",
       "74   0 days 00:00:54.865000 0 days 00:00:41.955000  ...      True   \n",
       "126  0 days 00:00:53.115000 0 days 00:00:41.802000  ...      True   \n",
       "180  0 days 00:00:54.102000 0 days 00:00:41.743000  ...      True   \n",
       "231  0 days 00:00:53.463000 0 days 00:00:41.515000  ...      True   \n",
       "296  0 days 00:00:55.864000 0 days 00:00:41.899000  ...      True   \n",
       "318                     NaT 0 days 00:00:43.278000  ...      True   \n",
       "348  0 days 00:00:52.756000 0 days 00:00:41.789000  ...      True   \n",
       "396  0 days 00:00:55.181000 0 days 00:00:42.396000  ...      True   \n",
       "424                     NaT 0 days 00:00:43.689000  ...      True   \n",
       "448  0 days 00:00:54.966000 0 days 00:00:42.636000  ...      True   \n",
       "477                     NaT 0 days 00:00:43.761000  ...      True   \n",
       "500  0 days 00:00:54.735000 0 days 00:00:41.850000  ...     False   \n",
       "530                     NaT 0 days 00:00:44.081000  ...     False   \n",
       "554  0 days 00:00:56.212000 0 days 00:00:42.200000  ...     False   \n",
       "583                     NaT 0 days 00:00:43.772000  ...      True   \n",
       "606  0 days 00:00:54.637000 0 days 00:00:41.887000  ...      True   \n",
       "636                     NaT 0 days 00:00:43.741000  ...      True   \n",
       "660  0 days 00:00:58.568000 0 days 00:00:43.264000  ...      True   \n",
       "689                     NaT 0 days 00:00:44.306000  ...      True   \n",
       "722  0 days 00:00:53.380000 0 days 00:00:41.651000  ...      True   \n",
       "742                     NaT 0 days 00:00:44.379000  ...      True   \n",
       "757  0 days 00:00:54.025000 0 days 00:00:42.289000  ...      True   \n",
       "795                     NaT 0 days 00:00:44.057000  ...      True   \n",
       "817  0 days 00:00:54.304000 0 days 00:00:42.053000  ...      True   \n",
       "848                     NaT 0 days 00:00:44.632000  ...      True   \n",
       "881  0 days 00:00:54.354000 0 days 00:00:41.907000  ...      True   \n",
       "901                     NaT 0 days 00:00:44.392000  ...     False   \n",
       "933  0 days 00:00:54.741000 0 days 00:00:42.074000  ...      True   \n",
       "954                     NaT 0 days 00:00:44.751000  ...      True   \n",
       "985  0 days 00:00:54.755000 0 days 00:00:41.961000  ...      True   \n",
       "1007                    NaT 0 days 00:00:44.800000  ...      True   \n",
       "1016 0 days 00:00:54.304000 0 days 00:00:42.546000  ...     False   \n",
       "1037 0 days 00:00:53.300000 0 days 00:00:41.874000  ...     False   \n",
       "\n",
       "                 Team           LapStartTime            LapStartDate  \\\n",
       "21    Red Bull Racing 0 days 01:28:54.023000 2025-04-06 05:36:34.453   \n",
       "74            McLaren 0 days 01:28:55.352000 2025-04-06 05:36:35.782   \n",
       "126           McLaren 0 days 01:27:25.078000 2025-04-06 05:35:05.508   \n",
       "180           Ferrari 0 days 01:29:01.551000 2025-04-06 05:36:41.981   \n",
       "231          Mercedes 0 days 01:25:56.802000 2025-04-06 05:33:37.232   \n",
       "296          Mercedes 0 days 01:44:37.737000 2025-04-06 05:52:18.167   \n",
       "318           Ferrari 0 days 00:56:06.651000 2025-04-06 05:03:47.081   \n",
       "348           Ferrari 0 days 01:43:09.818000 2025-04-06 05:50:50.248   \n",
       "396      Racing Bulls 0 days 01:35:27.208000 2025-04-06 05:43:07.638   \n",
       "424          Williams 0 days 00:56:06.651000 2025-04-06 05:03:47.081   \n",
       "448          Williams 0 days 01:33:57.409000 2025-04-06 05:41:37.839   \n",
       "477      Haas F1 Team 0 days 00:56:06.651000 2025-04-06 05:03:47.081   \n",
       "500      Haas F1 Team 0 days 01:32:29.078000 2025-04-06 05:40:09.508   \n",
       "530      Aston Martin 0 days 00:56:06.651000 2025-04-06 05:03:47.081   \n",
       "554      Aston Martin 0 days 01:34:06.524000 2025-04-06 05:41:46.954   \n",
       "583   Red Bull Racing 0 days 00:56:06.651000 2025-04-06 05:03:47.081   \n",
       "606   Red Bull Racing 0 days 01:32:35.412000 2025-04-06 05:40:15.842   \n",
       "636            Alpine 0 days 00:56:06.651000 2025-04-06 05:03:47.081   \n",
       "660            Alpine 0 days 01:34:09.684000 2025-04-06 05:41:50.114   \n",
       "689          Williams 0 days 00:56:06.651000 2025-04-06 05:03:47.081   \n",
       "722          Williams 0 days 01:48:24.613000 2025-04-06 05:56:05.043   \n",
       "742            Alpine 0 days 00:56:06.651000 2025-04-06 05:03:47.081   \n",
       "757            Alpine 0 days 01:20:08.302000 2025-04-06 05:27:48.732   \n",
       "795       Kick Sauber 0 days 00:56:06.651000 2025-04-06 05:03:47.081   \n",
       "817       Kick Sauber 0 days 01:31:06.215000 2025-04-06 05:38:46.645   \n",
       "848      Racing Bulls 0 days 00:56:06.651000 2025-04-06 05:03:47.081   \n",
       "881      Racing Bulls 0 days 01:48:22.430000 2025-04-06 05:56:02.860   \n",
       "901      Haas F1 Team 0 days 00:56:06.651000 2025-04-06 05:03:47.081   \n",
       "933      Haas F1 Team 0 days 01:46:51.178000 2025-04-06 05:54:31.608   \n",
       "954       Kick Sauber 0 days 00:56:06.651000 2025-04-06 05:03:47.081   \n",
       "985       Kick Sauber 0 days 01:45:19.883000 2025-04-06 05:53:00.313   \n",
       "1007     Aston Martin 0 days 00:56:06.651000 2025-04-06 05:03:47.081   \n",
       "1016     Aston Martin 0 days 01:10:39.775000 2025-04-06 05:18:20.205   \n",
       "1037     Aston Martin 0 days 01:44:03.833000 2025-04-06 05:51:44.263   \n",
       "\n",
       "      TrackStatus  Position  Deleted  DeletedReason  FastF1Generated  \\\n",
       "21              1       5.0    False                           False   \n",
       "74              1       6.0    False                           False   \n",
       "126             1       9.0    False                           False   \n",
       "180             1      10.0    False                           False   \n",
       "231             1      13.0    False                           False   \n",
       "296             1       6.0    False                           False   \n",
       "318             1       8.0    False                           False   \n",
       "348             1       7.0    False                           False   \n",
       "396             1      10.0    False                           False   \n",
       "424             1       9.0    False                           False   \n",
       "448             1      13.0    False                           False   \n",
       "477             1      10.0    False                           False   \n",
       "500             1      16.0    False                           False   \n",
       "530             1      11.0    False                           False   \n",
       "554             1      15.0    False                           False   \n",
       "583             1      13.0    False                           False   \n",
       "606             1      17.0    False                           False   \n",
       "636             1      12.0    False                           False   \n",
       "660             1      18.0    False                           False   \n",
       "689             1      16.0    False                           False   \n",
       "722             1      17.0    False                           False   \n",
       "742             1      18.0    False                           False   \n",
       "757             1      19.0    False                           False   \n",
       "795             1      15.0    False                           False   \n",
       "817             1      19.0    False                           False   \n",
       "848             1      14.0    False                           False   \n",
       "881             1      16.0    False                           False   \n",
       "901             1      17.0    False                           False   \n",
       "933             1      18.0    False                           False   \n",
       "954             1      20.0    False                           False   \n",
       "985             1      19.0    False                           False   \n",
       "1007            1      19.0    False                           False   \n",
       "1016            1      20.0    False                           False   \n",
       "1037            1      20.0    False                           False   \n",
       "\n",
       "     IsAccurate  \n",
       "21        False  \n",
       "74        False  \n",
       "126       False  \n",
       "180       False  \n",
       "231       False  \n",
       "296       False  \n",
       "318       False  \n",
       "348       False  \n",
       "396       False  \n",
       "424       False  \n",
       "448       False  \n",
       "477       False  \n",
       "500       False  \n",
       "530       False  \n",
       "554       False  \n",
       "583       False  \n",
       "606       False  \n",
       "636       False  \n",
       "660       False  \n",
       "689       False  \n",
       "722       False  \n",
       "742       False  \n",
       "757       False  \n",
       "795       False  \n",
       "817       False  \n",
       "848       False  \n",
       "881       False  \n",
       "901       False  \n",
       "933       False  \n",
       "954       False  \n",
       "985       False  \n",
       "1007      False  \n",
       "1016      False  \n",
       "1037      False  \n",
       "\n",
       "[34 rows x 31 columns]"
      ]
     },
     "execution_count": 13,
     "metadata": {},
     "output_type": "execute_result"
    }
   ],
   "source": [
    "session.laps[session.laps[\"LapTime\"].dt.total_seconds() > 100]  # All of these laps are either after a pit stop or first lap (from standing start)"
   ]
  },
  {
   "cell_type": "markdown",
   "id": "1c9bd659-f4ce-4e73-8f34-256307cffeb3",
   "metadata": {},
   "source": [
    "Summarily, the lap data from this source seems to be complete and reasonably accurate."
   ]
  },
  {
   "cell_type": "code",
   "execution_count": 14,
   "id": "0beb03ac-239b-482f-a4c1-52d6c75e9c75",
   "metadata": {
    "tags": []
   },
   "outputs": [],
   "source": [
    "# Todo: graphs of lap time as function of compound, tire age\n",
    "def compound_to_color(compound):\n",
    "    color_dictionary = {\"HARD\" : \"black\", \"MEDIUM\" : \"yellow\", \"SOFT\" : \"red\"}\n",
    "    return color_dictionary[compound]"
   ]
  },
  {
   "cell_type": "code",
   "execution_count": 15,
   "id": "f1ad144e-5523-45fb-9253-854267a80da7",
   "metadata": {
    "tags": []
   },
   "outputs": [
    {
     "data": {
      "image/png": "[encoded data removed]",
      "text/plain": [
       "<Figure size 640x480 with 1 Axes>"
      ]
     },
     "metadata": {},
     "output_type": "display_data"
    }
   ],
   "source": [
    "# Medium was first stint\n",
    "subset = session.laps[session.laps[\"Driver\"] == \"VER\"]\n",
    "plt.scatter(subset[\"TyreLife\"], subset[\"LapTime\"].dt.total_seconds(), c = subset[\"Compound\"].apply(compound_to_color), alpha = 0.5)\n",
    "plt.title(\"Effect of amount of time spent on set of tires on lap time\")\n",
    "plt.xlabel(\"Number of laps completed on current tires\")\n",
    "plt.ylabel(\"Lap Time (s)\")\n",
    "plt.show()"
   ]
  },
  {
   "cell_type": "markdown",
   "id": "ab7dd1c8-623f-4e15-9476-5773533edba9",
   "metadata": {},
   "source": [
    "From this graph, it looks like lap times typically decrease as time passes (with outliers corresponding with entering/exiting the pit lane). What is interesting is that the lap times on the hard tire are faster than those on the medium tire, despite the medium tire having more grip, which usually leads to faster lap times as the car can drive through corners more quickly."
   ]
  },
  {
   "cell_type": "markdown",
   "id": "dfc3c0c9-fc43-4296-9bd5-a06b0a9c14b5",
   "metadata": {
    "tags": []
   },
   "source": [
    "## Weather Data"
   ]
  },
  {
   "cell_type": "code",
   "execution_count": 16,
   "id": "0c247310-7763-4254-9182-2a61e7abf829",
   "metadata": {
    "tags": []
   },
   "outputs": [
    {
     "data": {
      "text/html": [
       "<div>\n",
       "<style scoped>\n",
       "    .dataframe tbody tr th:only-of-type {\n",
       "        vertical-align: middle;\n",
       "    }\n",
       "\n",
       "    .dataframe tbody tr th {\n",
       "        vertical-align: top;\n",
       "    }\n",
       "\n",
       "    .dataframe thead th {\n",
       "        text-align: right;\n",
       "    }\n",
       "</style>\n",
       "<table border=\"1\" class=\"dataframe\">\n",
       "  <thead>\n",
       "    <tr style=\"text-align: right;\">\n",
       "      <th></th>\n",
       "      <th>Time</th>\n",
       "      <th>AirTemp</th>\n",
       "      <th>Humidity</th>\n",
       "      <th>Pressure</th>\n",
       "      <th>Rainfall</th>\n",
       "      <th>TrackTemp</th>\n",
       "      <th>WindDirection</th>\n",
       "      <th>WindSpeed</th>\n",
       "    </tr>\n",
       "  </thead>\n",
       "  <tbody>\n",
       "    <tr>\n",
       "      <th>0</th>\n",
       "      <td>0 days 00:00:25.703000</td>\n",
       "      <td>14.6</td>\n",
       "      <td>76.0</td>\n",
       "      <td>1009.9</td>\n",
       "      <td>False</td>\n",
       "      <td>22.5</td>\n",
       "      <td>324</td>\n",
       "      <td>1.1</td>\n",
       "    </tr>\n",
       "    <tr>\n",
       "      <th>1</th>\n",
       "      <td>0 days 00:01:25.704000</td>\n",
       "      <td>14.5</td>\n",
       "      <td>75.0</td>\n",
       "      <td>1009.9</td>\n",
       "      <td>False</td>\n",
       "      <td>22.6</td>\n",
       "      <td>121</td>\n",
       "      <td>0.4</td>\n",
       "    </tr>\n",
       "    <tr>\n",
       "      <th>2</th>\n",
       "      <td>0 days 00:02:25.688000</td>\n",
       "      <td>14.4</td>\n",
       "      <td>75.0</td>\n",
       "      <td>1009.9</td>\n",
       "      <td>False</td>\n",
       "      <td>22.8</td>\n",
       "      <td>132</td>\n",
       "      <td>1.5</td>\n",
       "    </tr>\n",
       "    <tr>\n",
       "      <th>3</th>\n",
       "      <td>0 days 00:03:25.704000</td>\n",
       "      <td>14.5</td>\n",
       "      <td>76.0</td>\n",
       "      <td>1010.0</td>\n",
       "      <td>False</td>\n",
       "      <td>23.0</td>\n",
       "      <td>136</td>\n",
       "      <td>0.6</td>\n",
       "    </tr>\n",
       "    <tr>\n",
       "      <th>4</th>\n",
       "      <td>0 days 00:04:25.705000</td>\n",
       "      <td>14.6</td>\n",
       "      <td>74.0</td>\n",
       "      <td>1009.9</td>\n",
       "      <td>False</td>\n",
       "      <td>22.9</td>\n",
       "      <td>152</td>\n",
       "      <td>0.9</td>\n",
       "    </tr>\n",
       "  </tbody>\n",
       "</table>\n",
       "</div>"
      ],
      "text/plain": [
       "                    Time  AirTemp  Humidity  Pressure  Rainfall  TrackTemp  \\\n",
       "0 0 days 00:00:25.703000     14.6      76.0    1009.9     False       22.5   \n",
       "1 0 days 00:01:25.704000     14.5      75.0    1009.9     False       22.6   \n",
       "2 0 days 00:02:25.688000     14.4      75.0    1009.9     False       22.8   \n",
       "3 0 days 00:03:25.704000     14.5      76.0    1010.0     False       23.0   \n",
       "4 0 days 00:04:25.705000     14.6      74.0    1009.9     False       22.9   \n",
       "\n",
       "   WindDirection  WindSpeed  \n",
       "0            324        1.1  \n",
       "1            121        0.4  \n",
       "2            132        1.5  \n",
       "3            136        0.6  \n",
       "4            152        0.9  "
      ]
     },
     "execution_count": 16,
     "metadata": {},
     "output_type": "execute_result"
    }
   ],
   "source": [
    "session.weather_data.head()"
   ]
  },
  {
   "cell_type": "code",
   "execution_count": 17,
   "id": "3ae5c250-448c-4794-84f9-d7a68eea8597",
   "metadata": {
    "tags": []
   },
   "outputs": [
    {
     "data": {
      "image/png": "[encoded data removed]",
      "text/plain": [
       "<Figure size 640x480 with 1 Axes>"
      ]
     },
     "metadata": {},
     "output_type": "display_data"
    }
   ],
   "source": [
    "plt.hist(session.weather_data.Time.dt.total_seconds(), bins = range(0, 8500, 60))\n",
    "plt.title(\"Weather data distribution by time (s)\")\n",
    "plt.show()"
   ]
  },
  {
   "cell_type": "code",
   "execution_count": 34,
   "id": "53237ee4-3359-4cdb-9951-7b00558e6b6e",
   "metadata": {
    "tags": []
   },
   "outputs": [
    {
     "data": {
      "image/png": "[encoded data removed]",
      "text/plain": [
       "<Figure size 640x480 with 1 Axes>"
      ]
     },
     "metadata": {},
     "output_type": "display_data"
    }
   ],
   "source": [
    "plt.hist(session.laps.LapStartTime.dt.total_seconds(), bins = range(0, 8500, 60))\n",
    "plt.show()"
   ]
  },
  {
   "cell_type": "markdown",
   "id": "4236e3d3-71ca-468c-920c-acfc2e61580d",
   "metadata": {},
   "source": [
    "This histogram implies that weather data is always every ~60 seconds, but we must also consider that this time attribute is out of sync with the session time used by the other tables and will have to convert it.\n",
    "Update: I since compared the session times of the laps, and the session times are actually in sync."
   ]
  },
  {
   "cell_type": "code",
   "execution_count": 18,
   "id": "b31287ef-869b-49cc-9533-782e7170d096",
   "metadata": {},
   "outputs": [
    {
     "data": {
      "text/plain": [
       "Time             0\n",
       "AirTemp          0\n",
       "Humidity         0\n",
       "Pressure         0\n",
       "Rainfall         0\n",
       "TrackTemp        0\n",
       "WindDirection    0\n",
       "WindSpeed        0\n",
       "dtype: int64"
      ]
     },
     "execution_count": 18,
     "metadata": {},
     "output_type": "execute_result"
    }
   ],
   "source": [
    "session.weather_data.isna().sum()#[session.weather_data.isna().sum() > 0]"
   ]
  },
  {
   "cell_type": "code",
   "execution_count": 19,
   "id": "874e8e7f-a5d2-44da-a40b-e6d3a6f9707b",
   "metadata": {
    "tags": []
   },
   "outputs": [
    {
     "data": {
      "text/plain": [
       "Rainfall\n",
       "False    140\n",
       "Name: count, dtype: int64"
      ]
     },
     "execution_count": 19,
     "metadata": {},
     "output_type": "execute_result"
    }
   ],
   "source": [
    "session.weather_data.Rainfall.value_counts()"
   ]
  },
  {
   "cell_type": "code",
   "execution_count": 20,
   "id": "cf4646a7-a84f-44ca-a6c3-30da9b1896c1",
   "metadata": {
    "tags": []
   },
   "outputs": [
    {
     "data": {
      "text/plain": [
       "<Axes: xlabel='AirTemp', ylabel='Count'>"
      ]
     },
     "execution_count": 20,
     "metadata": {},
     "output_type": "execute_result"
    },
    {
     "data": {
      "image/png": "[encoded data removed]",
      "text/plain": [
       "<Figure size 640x480 with 1 Axes>"
      ]
     },
     "metadata": {},
     "output_type": "display_data"
    }
   ],
   "source": [
    "sns.histplot(session.weather_data, x = \"AirTemp\")"
   ]
  },
  {
   "cell_type": "code",
   "execution_count": 21,
   "id": "e462f864-7058-4fe1-a600-5b54ccf0ef0c",
   "metadata": {
    "tags": []
   },
   "outputs": [
    {
     "data": {
      "text/plain": [
       "<Axes: xlabel='TrackTemp', ylabel='Count'>"
      ]
     },
     "execution_count": 21,
     "metadata": {},
     "output_type": "execute_result"
    },
    {
     "data": {
      "image/png": "[encoded data removed]",
      "text/plain": [
       "<Figure size 640x480 with 1 Axes>"
      ]
     },
     "metadata": {},
     "output_type": "display_data"
    }
   ],
   "source": [
    "sns.histplot(session.weather_data, x = \"TrackTemp\")"
   ]
  },
  {
   "cell_type": "code",
   "execution_count": 22,
   "id": "c7f13966-8af8-49ce-8ec8-66dfc030691f",
   "metadata": {
    "tags": []
   },
   "outputs": [
    {
     "data": {
      "text/plain": [
       "<Axes: xlabel='Humidity', ylabel='Count'>"
      ]
     },
     "execution_count": 22,
     "metadata": {},
     "output_type": "execute_result"
    },
    {
     "data": {
      "image/png": "[encoded data removed]",
      "text/plain": [
       "<Figure size 640x480 with 1 Axes>"
      ]
     },
     "metadata": {},
     "output_type": "display_data"
    }
   ],
   "source": [
    "sns.histplot(session.weather_data, x = \"Humidity\")"
   ]
  },
  {
   "cell_type": "code",
   "execution_count": 23,
   "id": "a72e9694-a66a-4dca-a920-d961dbb8bfdb",
   "metadata": {
    "tags": []
   },
   "outputs": [
    {
     "data": {
      "text/plain": [
       "<Axes: xlabel='Pressure', ylabel='Count'>"
      ]
     },
     "execution_count": 23,
     "metadata": {},
     "output_type": "execute_result"
    },
    {
     "data": {
      "image/png": "[encoded data removed]",
      "text/plain": [
       "<Figure size 640x480 with 1 Axes>"
      ]
     },
     "metadata": {},
     "output_type": "display_data"
    }
   ],
   "source": [
    "sns.histplot(session.weather_data, x = \"Pressure\")"
   ]
  },
  {
   "cell_type": "code",
   "execution_count": 24,
   "id": "8757ce2b-fdb9-452f-b917-be3eee63c972",
   "metadata": {
    "tags": []
   },
   "outputs": [
    {
     "data": {
      "text/plain": [
       "<Axes: xlabel='TrackTemp', ylabel='AirTemp'>"
      ]
     },
     "execution_count": 24,
     "metadata": {},
     "output_type": "execute_result"
    },
    {
     "data": {
      "image/png": "[encoded data removed]",
      "text/plain": [
       "<Figure size 640x480 with 1 Axes>"
      ]
     },
     "metadata": {},
     "output_type": "display_data"
    }
   ],
   "source": [
    "sns.scatterplot(session.weather_data, x = \"TrackTemp\", y = \"AirTemp\")  # Looks quadratic? It is likely that this pattern does not hold on a larger data domain"
   ]
  },
  {
   "cell_type": "code",
   "execution_count": 25,
   "id": "484ee58e-c440-42a9-9b12-ad8a2667d25e",
   "metadata": {
    "tags": []
   },
   "outputs": [
    {
     "data": {
      "image/png": "[encoded data removed]",
      "text/plain": [
       "<Figure size 640x480 with 1 Axes>"
      ]
     },
     "metadata": {},
     "output_type": "display_data"
    }
   ],
   "source": [
    "plt.scatter(session.weather_data.Time.dt.total_seconds(), session.weather_data.AirTemp, c = \"red\", label = \"Air\")\n",
    "plt.scatter(session.weather_data.Time.dt.total_seconds(), session.weather_data.TrackTemp, label = \"Track\")\n",
    "plt.legend()\n",
    "plt.xlabel(\"Session time (s)\")\n",
    "plt.ylabel(\"Temperature (celsius)\")\n",
    "plt.show()"
   ]
  },
  {
   "cell_type": "markdown",
   "id": "f0acc4e1-0ee9-47e1-b7db-df0d3352f085",
   "metadata": {},
   "source": [
    "Weather data is collected roughly every minute and complete. Since these attributes are subject to fluctuation over the course of the lap and we will have multiple readings taken in each lap, we will have to summarize these values in order to use them for modeling. Additionally, since wind direction relative to the car varies unpredictably as the car changes direction on an unconventionally shaped track, we will disregard wind data for this project. <br>\n",
    "Because of the unclear relationship between track and air temperature, we should consider both as features. <br>\n",
    "For simplicity, this project will ignore wet weather data."
   ]
  },
  {
   "cell_type": "markdown",
   "id": "036d0e91-6904-4ee9-b932-e81b4793d91c",
   "metadata": {
    "tags": []
   },
   "source": [
    "## Telemetry"
   ]
  },
  {
   "cell_type": "code",
   "execution_count": 26,
   "id": "9feb218f-7d03-410c-8173-fc9120b8ff3e",
   "metadata": {
    "tags": []
   },
   "outputs": [],
   "source": [
    "tel = session.laps[session.laps[\"Driver\"] == \"VER\"].telemetry  # Should move away from .telemetry to get_car_data() for accuracy (get_car_data may be missing SessionTime?)"
   ]
  },
  {
   "cell_type": "code",
   "execution_count": 27,
   "id": "5451496b-5433-411e-a21d-5008eeea866a",
   "metadata": {
    "tags": []
   },
   "outputs": [
    {
     "data": {
      "text/html": [
       "<div>\n",
       "<style scoped>\n",
       "    .dataframe tbody tr th:only-of-type {\n",
       "        vertical-align: middle;\n",
       "    }\n",
       "\n",
       "    .dataframe tbody tr th {\n",
       "        vertical-align: top;\n",
       "    }\n",
       "\n",
       "    .dataframe thead th {\n",
       "        text-align: right;\n",
       "    }\n",
       "</style>\n",
       "<table border=\"1\" class=\"dataframe\">\n",
       "  <thead>\n",
       "    <tr style=\"text-align: right;\">\n",
       "      <th></th>\n",
       "      <th>Date</th>\n",
       "      <th>SessionTime</th>\n",
       "      <th>DriverAhead</th>\n",
       "      <th>DistanceToDriverAhead</th>\n",
       "      <th>Time</th>\n",
       "      <th>RPM</th>\n",
       "      <th>Speed</th>\n",
       "      <th>nGear</th>\n",
       "      <th>Throttle</th>\n",
       "      <th>Brake</th>\n",
       "      <th>DRS</th>\n",
       "      <th>Source</th>\n",
       "      <th>Distance</th>\n",
       "      <th>RelativeDistance</th>\n",
       "      <th>Status</th>\n",
       "      <th>X</th>\n",
       "      <th>Y</th>\n",
       "      <th>Z</th>\n",
       "    </tr>\n",
       "  </thead>\n",
       "  <tbody>\n",
       "    <tr>\n",
       "      <th>2</th>\n",
       "      <td>2025-04-06 05:03:47.081</td>\n",
       "      <td>0 days 00:56:06.651000</td>\n",
       "      <td></td>\n",
       "      <td>0.177778</td>\n",
       "      <td>0 days 00:00:00</td>\n",
       "      <td>10087.729555</td>\n",
       "      <td>0.0</td>\n",
       "      <td>1</td>\n",
       "      <td>16.000000</td>\n",
       "      <td>True</td>\n",
       "      <td>1</td>\n",
       "      <td>interpolation</td>\n",
       "      <td>0.037065</td>\n",
       "      <td>1.211863e-07</td>\n",
       "      <td>OnTrack</td>\n",
       "      <td>3435.495685</td>\n",
       "      <td>-2677.352826</td>\n",
       "      <td>665.979243</td>\n",
       "    </tr>\n",
       "    <tr>\n",
       "      <th>3</th>\n",
       "      <td>2025-04-06 05:03:47.204</td>\n",
       "      <td>0 days 00:56:06.774000</td>\n",
       "      <td></td>\n",
       "      <td>0.177778</td>\n",
       "      <td>0 days 00:00:00.123000</td>\n",
       "      <td>10069.000000</td>\n",
       "      <td>0.0</td>\n",
       "      <td>1</td>\n",
       "      <td>16.000000</td>\n",
       "      <td>True</td>\n",
       "      <td>1</td>\n",
       "      <td>car</td>\n",
       "      <td>0.000000</td>\n",
       "      <td>0.000000e+00</td>\n",
       "      <td>OnTrack</td>\n",
       "      <td>3435.426377</td>\n",
       "      <td>-2677.263488</td>\n",
       "      <td>665.976199</td>\n",
       "    </tr>\n",
       "    <tr>\n",
       "      <th>4</th>\n",
       "      <td>2025-04-06 05:03:47.385</td>\n",
       "      <td>0 days 00:56:06.955000</td>\n",
       "      <td></td>\n",
       "      <td>0.177778</td>\n",
       "      <td>0 days 00:00:00.304000</td>\n",
       "      <td>9683.243886</td>\n",
       "      <td>0.0</td>\n",
       "      <td>1</td>\n",
       "      <td>15.434375</td>\n",
       "      <td>True</td>\n",
       "      <td>1</td>\n",
       "      <td>pos</td>\n",
       "      <td>-0.090237</td>\n",
       "      <td>-2.950363e-07</td>\n",
       "      <td>OnTrack</td>\n",
       "      <td>3436.000000</td>\n",
       "      <td>-2678.000000</td>\n",
       "      <td>666.000000</td>\n",
       "    </tr>\n",
       "    <tr>\n",
       "      <th>5</th>\n",
       "      <td>2025-04-06 05:03:47.524</td>\n",
       "      <td>0 days 00:56:07.094000</td>\n",
       "      <td>27</td>\n",
       "      <td>0.177778</td>\n",
       "      <td>0 days 00:00:00.443000</td>\n",
       "      <td>9387.000000</td>\n",
       "      <td>0.0</td>\n",
       "      <td>1</td>\n",
       "      <td>15.000000</td>\n",
       "      <td>False</td>\n",
       "      <td>1</td>\n",
       "      <td>car</td>\n",
       "      <td>0.000000</td>\n",
       "      <td>0.000000e+00</td>\n",
       "      <td>OnTrack</td>\n",
       "      <td>3436.986895</td>\n",
       "      <td>-2679.267140</td>\n",
       "      <td>666.040948</td>\n",
       "    </tr>\n",
       "    <tr>\n",
       "      <th>6</th>\n",
       "      <td>2025-04-06 05:03:47.764</td>\n",
       "      <td>0 days 00:56:07.334000</td>\n",
       "      <td>81</td>\n",
       "      <td>0.000000</td>\n",
       "      <td>0 days 00:00:00.683000</td>\n",
       "      <td>7707.000000</td>\n",
       "      <td>11.0</td>\n",
       "      <td>1</td>\n",
       "      <td>15.000000</td>\n",
       "      <td>False</td>\n",
       "      <td>1</td>\n",
       "      <td>car</td>\n",
       "      <td>0.733333</td>\n",
       "      <td>2.397686e-06</td>\n",
       "      <td>OnTrack</td>\n",
       "      <td>3439.938357</td>\n",
       "      <td>-2682.837426</td>\n",
       "      <td>666.055047</td>\n",
       "    </tr>\n",
       "  </tbody>\n",
       "</table>\n",
       "</div>"
      ],
      "text/plain": [
       "                     Date            SessionTime DriverAhead  \\\n",
       "2 2025-04-06 05:03:47.081 0 days 00:56:06.651000               \n",
       "3 2025-04-06 05:03:47.204 0 days 00:56:06.774000               \n",
       "4 2025-04-06 05:03:47.385 0 days 00:56:06.955000               \n",
       "5 2025-04-06 05:03:47.524 0 days 00:56:07.094000          27   \n",
       "6 2025-04-06 05:03:47.764 0 days 00:56:07.334000          81   \n",
       "\n",
       "   DistanceToDriverAhead                   Time           RPM  Speed  nGear  \\\n",
       "2               0.177778        0 days 00:00:00  10087.729555    0.0      1   \n",
       "3               0.177778 0 days 00:00:00.123000  10069.000000    0.0      1   \n",
       "4               0.177778 0 days 00:00:00.304000   9683.243886    0.0      1   \n",
       "5               0.177778 0 days 00:00:00.443000   9387.000000    0.0      1   \n",
       "6               0.000000 0 days 00:00:00.683000   7707.000000   11.0      1   \n",
       "\n",
       "    Throttle  Brake  DRS         Source  Distance  RelativeDistance   Status  \\\n",
       "2  16.000000   True    1  interpolation  0.037065      1.211863e-07  OnTrack   \n",
       "3  16.000000   True    1            car  0.000000      0.000000e+00  OnTrack   \n",
       "4  15.434375   True    1            pos -0.090237     -2.950363e-07  OnTrack   \n",
       "5  15.000000  False    1            car  0.000000      0.000000e+00  OnTrack   \n",
       "6  15.000000  False    1            car  0.733333      2.397686e-06  OnTrack   \n",
       "\n",
       "             X            Y           Z  \n",
       "2  3435.495685 -2677.352826  665.979243  \n",
       "3  3435.426377 -2677.263488  665.976199  \n",
       "4  3436.000000 -2678.000000  666.000000  \n",
       "5  3436.986895 -2679.267140  666.040948  \n",
       "6  3439.938357 -2682.837426  666.055047  "
      ]
     },
     "execution_count": 27,
     "metadata": {},
     "output_type": "execute_result"
    }
   ],
   "source": [
    "tel.head()  # SessionTime is synced up with SessionTime from laps, row index 2 is synced up with first lap start time\n",
    "# Relevant data: Car - Speed, Nothing from Pos, run telemetry.add_driver_ahead() for DriverAhead and DistanceToDriverAhead, one lap at a time?"
   ]
  },
  {
   "cell_type": "markdown",
   "id": "66fe7263-928b-4ec3-93ed-a0623422228e",
   "metadata": {},
   "source": [
    "This telemetry table should only serve as a guide to what data is available. According to the documentation of FastF1, this table has a lot of interpolated data, and the DriverAhead related data is prone to integration errors when calculated over long lengths and thus is likely inaccurate in its current state. There are recommended methods of loading this data that can be implimented later, but the only attribute that should vary between laps on the same circuit are the 2 attributes related to DriverAhead."
   ]
  },
  {
   "cell_type": "code",
   "execution_count": 28,
   "id": "01d2fe54-30e1-4f9f-bff1-4760c0f5670b",
   "metadata": {
    "tags": []
   },
   "outputs": [
    {
     "data": {
      "image/png": "[encoded data removed]",
      "text/plain": [
       "<Figure size 640x480 with 1 Axes>"
      ]
     },
     "metadata": {},
     "output_type": "display_data"
    }
   ],
   "source": [
    "plt.hist(tel.SessionTime.dt.total_seconds(), bins = range(0, 8500, 120))\n",
    "plt.show()\n",
    "# Distribution of telemetry data seems to be close to uniform, which implies the telemetry data is complete"
   ]
  },
  {
   "cell_type": "code",
   "execution_count": 29,
   "id": "73a74afc-bf69-41ab-a38c-df15a55a5d93",
   "metadata": {
    "tags": []
   },
   "outputs": [
    {
     "data": {
      "text/plain": [
       "Date                     0\n",
       "SessionTime              0\n",
       "DriverAhead              0\n",
       "DistanceToDriverAhead    0\n",
       "Time                     0\n",
       "RPM                      0\n",
       "Speed                    0\n",
       "nGear                    0\n",
       "Throttle                 0\n",
       "Brake                    0\n",
       "DRS                      0\n",
       "Source                   0\n",
       "Distance                 0\n",
       "RelativeDistance         0\n",
       "Status                   0\n",
       "X                        0\n",
       "Y                        0\n",
       "Z                        0\n",
       "dtype: int64"
      ]
     },
     "execution_count": 29,
     "metadata": {},
     "output_type": "execute_result"
    }
   ],
   "source": [
    "tel.isna().sum()"
   ]
  },
  {
   "cell_type": "code",
   "execution_count": 30,
   "id": "fe448876-b295-4d27-985b-8400ce6ea447",
   "metadata": {
    "tags": []
   },
   "outputs": [
    {
     "data": {
      "text/plain": [
       "[<matplotlib.lines.Line2D at 0x7efbe1058f50>]"
      ]
     },
     "execution_count": 30,
     "metadata": {},
     "output_type": "execute_result"
    },
    {
     "data": {
      "image/png": "[encoded data removed]",
      "text/plain": [
       "<Figure size 640x480 with 1 Axes>"
      ]
     },
     "metadata": {},
     "output_type": "display_data"
    }
   ],
   "source": [
    "plt.plot(tel[\"Time\"].dt.total_seconds(), tel[\"Speed\"])  # Seems reasonable at a glance - Data is periodic which means laps are being driven consistently, and the 2 drops to 0 are the standing start and the pit stop"
   ]
  },
  {
   "cell_type": "code",
   "execution_count": 31,
   "id": "7e3a534a-ef02-4639-b307-853e34a14c12",
   "metadata": {
    "tags": []
   },
   "outputs": [
    {
     "data": {
      "text/plain": [
       "DriverAhead\n",
       "      25495\n",
       "81     4764\n",
       "12     2778\n",
       "6      2543\n",
       "44     1278\n",
       "87      117\n",
       "30       22\n",
       "27       12\n",
       "4        11\n",
       "31       10\n",
       "18       10\n",
       "22        8\n",
       "10        4\n",
       "14        2\n",
       "Name: count, dtype: int64"
      ]
     },
     "execution_count": 31,
     "metadata": {},
     "output_type": "execute_result"
    }
   ],
   "source": [
    "tel[\"DriverAhead\"].value_counts()"
   ]
  },
  {
   "cell_type": "code",
   "execution_count": 32,
   "id": "684d7088-5031-486c-9844-b214acd0da40",
   "metadata": {
    "tags": []
   },
   "outputs": [
    {
     "data": {
      "image/png": "[encoded data removed]",
      "text/plain": [
       "<Figure size 640x480 with 1 Axes>"
      ]
     },
     "metadata": {},
     "output_type": "display_data"
    }
   ],
   "source": [
    "# Distribution of drivers that were directly ahead of Verstappen by time, having trouble verifying this data\n",
    "for i in tel[\"DriverAhead\"].unique():\n",
    "    if i != \"\":\n",
    "        specified_ahead_times = tel[tel[\"DriverAhead\"] == i]\n",
    "        plt.hist(specified_ahead_times[\"SessionTime\"].dt.total_seconds(), label = i, bins = range(0, 8500, 180))\n",
    "#plt.yscale('log')\n",
    "plt.xlabel(\"Session Time\")\n",
    "plt.ylabel(\"Count\")\n",
    "plt.title(\"Distribution of Driver ahead of Verstappen\")\n",
    "plt.legend()\n",
    "plt.show()"
   ]
  },
  {
   "cell_type": "markdown",
   "id": "d395cba1-2fee-4224-8289-b9b4c75c0781",
   "metadata": {},
   "source": [
    "Overall, it seems that the telemetry data is complete and can be accurate if loaded properly."
   ]
  }
 ],
 "metadata": {
  "kernelspec": {
   "display_name": ".conda-f1-data-display:Python",
   "language": "python",
   "name": "conda-env-.conda-f1-data-display-py"
  },
  "language_info": {
   "codemirror_mode": {
    "name": "ipython",
    "version": 3
   },
   "file_extension": ".py",
   "mimetype": "text/x-python",
   "name": "python",
   "nbconvert_exporter": "python",
   "pygments_lexer": "ipython3",
   "version": "3.13.3"
  }
 },
 "nbformat": 4,
 "nbformat_minor": 5
}
