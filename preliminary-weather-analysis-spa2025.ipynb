{
 "cells": [
  {
   "cell_type": "code",
   "execution_count": 15,
   "id": "190431ff-cfdd-4784-8404-05a5770b0bea",
   "metadata": {
    "tags": []
   },
   "outputs": [],
   "source": [
    "import fastf1 as f1\n",
    "import matplotlib.pyplot as plt\n",
    "import pandas as pd"
   ]
  },
  {
   "cell_type": "code",
   "execution_count": 3,
   "id": "4ba2ceaf-8a5a-4991-8a80-e7f360ee41ea",
   "metadata": {
    "tags": []
   },
   "outputs": [
    {
     "name": "stderr",
     "output_type": "stream",
     "text": [
      "req         WARNING \tDEFAULT CACHE ENABLED! (510.88 MB) /home/studio-lab-user/.cache/fastf1\n",
      "core           INFO \tLoading data for Belgian Grand Prix - Sprint Qualifying [v3.6.0]\n",
      "req            INFO \tNo cached data found for session_info. Loading data...\n",
      "_api           INFO \tFetching session info data...\n",
      "req            INFO \tData has been written to cache!\n",
      "req            INFO \tNo cached data found for driver_info. Loading data...\n",
      "_api           INFO \tFetching driver list...\n",
      "req            INFO \tData has been written to cache!\n",
      "core        WARNING \tSprint Qualifying is not supported by Ergast! Limited results are calculated from timing data.\n",
      "req            INFO \tNo cached data found for session_status_data. Loading data...\n",
      "_api           INFO \tFetching session status data...\n",
      "req            INFO \tData has been written to cache!\n",
      "req            INFO \tNo cached data found for track_status_data. Loading data...\n",
      "_api           INFO \tFetching track status data...\n",
      "req            INFO \tData has been written to cache!\n",
      "req            INFO \tNo cached data found for _extended_timing_data. Loading data...\n",
      "_api           INFO \tFetching timing data...\n",
      "_api           INFO \tParsing timing data...\n",
      "req            INFO \tData has been written to cache!\n",
      "req            INFO \tNo cached data found for timing_app_data. Loading data...\n",
      "_api           INFO \tFetching timing app data...\n",
      "req            INFO \tData has been written to cache!\n",
      "core           INFO \tProcessing timing data...\n",
      "req            INFO \tNo cached data found for weather_data. Loading data...\n",
      "_api           INFO \tFetching weather data...\n",
      "req            INFO \tData has been written to cache!\n",
      "req            INFO \tNo cached data found for race_control_messages. Loading data...\n",
      "_api           INFO \tFetching race control messages...\n",
      "req            INFO \tData has been written to cache!\n",
      "core           INFO \tFinished loading data for 20 drivers: ['81', '1', '4', '16', '31', '55', '87', '10', '6', '5', '30', '22', '63', '14', '18', '23', '27', '44', '43', '12']\n"
     ]
    }
   ],
   "source": [
    "session = f1.get_session(2025, 13, \"SQ\") # optional: backend = \"fastf1\"\n",
    "session.load(telemetry = False, weather = True)"
   ]
  },
  {
   "cell_type": "code",
   "execution_count": 5,
   "id": "c5a9a951-d17b-43b9-81c3-7a7ae03a9177",
   "metadata": {
    "tags": []
   },
   "outputs": [],
   "source": [
    "q1, q2, q3 = session.laps.split_qualifying_sessions()"
   ]
  },
  {
   "cell_type": "code",
   "execution_count": 44,
   "id": "5d32374a-b108-4b62-99e7-54ac02acaeb8",
   "metadata": {
    "tags": []
   },
   "outputs": [
    {
     "data": {
      "text/plain": [
       "Index(['Time', 'Driver', 'DriverNumber', 'LapTime', 'LapNumber', 'Stint',\n",
       "       'PitOutTime', 'PitInTime', 'Sector1Time', 'Sector2Time', 'Sector3Time',\n",
       "       'Sector1SessionTime', 'Sector2SessionTime', 'Sector3SessionTime',\n",
       "       'SpeedI1', 'SpeedI2', 'SpeedFL', 'SpeedST', 'IsPersonalBest',\n",
       "       'Compound', 'TyreLife', 'FreshTyre', 'Team', 'LapStartTime',\n",
       "       'LapStartDate', 'TrackStatus', 'Position', 'Deleted', 'DeletedReason',\n",
       "       'FastF1Generated', 'IsAccurate'],\n",
       "      dtype='object')"
      ]
     },
     "execution_count": 44,
     "metadata": {},
     "output_type": "execute_result"
    }
   ],
   "source": [
    "q2.columns"
   ]
  },
  {
   "cell_type": "code",
   "execution_count": 36,
   "id": "a405bcb2-8274-45d9-900b-beed7b87fdd8",
   "metadata": {
    "tags": []
   },
   "outputs": [],
   "source": [
    "q2_hot = q2[q2.IsAccurate & ~q2.Deleted]\n",
    "weather_data = q2_hot.get_weather_data().reset_index(drop = True)"
   ]
  },
  {
   "cell_type": "code",
   "execution_count": 40,
   "id": "e6ddb3fd-e56c-45e8-90ef-c1c5dae04142",
   "metadata": {
    "tags": []
   },
   "outputs": [
    {
     "data": {
      "text/plain": [
       "20"
      ]
     },
     "execution_count": 40,
     "metadata": {},
     "output_type": "execute_result"
    }
   ],
   "source": [
    "q2_hot_full = pd.concat([q2_hot.reset_index(drop = True), weather_data.loc[:, ~(weather_data.columns == 'Time')]], axis = 1)\n",
    "#q2_full[pd.notna(q2_full.AirTemp)]"
   ]
  },
  {
   "cell_type": "code",
   "execution_count": 54,
   "id": "ed903063-74a4-4fff-be74-024cd95c0d0b",
   "metadata": {
    "tags": []
   },
   "outputs": [
    {
     "data": {
      "text/plain": [
       "Driver\n",
       "NOR    4\n",
       "PIA    2\n",
       "TSU    2\n",
       "RUS    1\n",
       "LEC    1\n",
       "STR    1\n",
       "VER    1\n",
       "ALO    1\n",
       "HAD    1\n",
       "BOR    1\n",
       "SAI    1\n",
       "LAW    1\n",
       "OCO    1\n",
       "GAS    1\n",
       "BEA    1\n",
       "Name: count, dtype: int64"
      ]
     },
     "execution_count": 54,
     "metadata": {},
     "output_type": "execute_result"
    }
   ],
   "source": [
    "q2_hot_full.Driver.value_counts()"
   ]
  },
  {
   "cell_type": "code",
   "execution_count": 59,
   "id": "918d2ad8-5b55-487a-9f1e-d6f0f8dcbd91",
   "metadata": {
    "tags": []
   },
   "outputs": [
    {
     "data": {
      "text/plain": [
       "Team\n",
       "McLaren            3\n",
       "Red Bull Racing    2\n",
       "Racing Bulls       2\n",
       "Aston Martin       2\n",
       "Haas F1 Team       2\n",
       "Ferrari            1\n",
       "Mercedes           1\n",
       "Williams           1\n",
       "Kick Sauber        1\n",
       "Alpine             1\n",
       "Name: count, dtype: int64"
      ]
     },
     "execution_count": 59,
     "metadata": {},
     "output_type": "execute_result"
    }
   ],
   "source": [
    "real_data = q2_hot_full[q2_hot_full.LapTime.dt.total_seconds() < 120]\n",
    "real_data.Team.value_counts()"
   ]
  },
  {
   "cell_type": "code",
   "execution_count": 60,
   "id": "69ed10c6-a9a2-400c-b602-9a3d01bbb40c",
   "metadata": {
    "tags": []
   },
   "outputs": [
    {
     "data": {
      "image/png": "[encoded data removed]",
      "text/plain": [
       "<Figure size 640x480 with 1 Axes>"
      ]
     },
     "metadata": {},
     "output_type": "display_data"
    }
   ],
   "source": [
    "plt.scatter(real_data.AirTemp, real_data.LapTime.dt.total_seconds())\n",
    "plt.xlabel(\"Air Temperature (celsius)\")\n",
    "plt.ylabel(\"Lap Time (s)\")\n",
    "plt.show()"
   ]
  },
  {
   "cell_type": "code",
   "execution_count": 53,
   "id": "c4b6fb8d-b1a9-4744-9800-b1e02e54dfdd",
   "metadata": {
    "tags": []
   },
   "outputs": [
    {
     "data": {
      "image/png": "[encoded data removed]",
      "text/plain": [
       "<Figure size 640x480 with 1 Axes>"
      ]
     },
     "metadata": {},
     "output_type": "display_data"
    }
   ],
   "source": [
    "plt.scatter(real_data.TrackTemp, real_data.LapTime.dt.total_seconds())\n",
    "plt.xlabel(\"Track Temperature (celsius)\")\n",
    "plt.ylabel(\"Lap Time (s)\")\n",
    "plt.show()"
   ]
  }
 ],
 "metadata": {
  "kernelspec": {
   "display_name": ".conda-f1-data-display:Python",
   "language": "python",
   "name": "conda-env-.conda-f1-data-display-py"
  },
  "language_info": {
   "codemirror_mode": {
    "name": "ipython",
    "version": 3
   },
   "file_extension": ".py",
   "mimetype": "text/x-python",
   "name": "python",
   "nbconvert_exporter": "python",
   "pygments_lexer": "ipython3",
   "version": "3.13.3"
  }
 },
 "nbformat": 4,
 "nbformat_minor": 5
}
