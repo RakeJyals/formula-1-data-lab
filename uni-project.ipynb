{
 "cells": [
  {
   "cell_type": "code",
   "execution_count": 1,
   "id": "42047830-a39c-4f1a-9173-c4bf99671347",
   "metadata": {
    "tags": []
   },
   "outputs": [],
   "source": [
    "import fastf1 as f1\n",
    "import pandas as pd\n",
    "import matplotlib.pyplot as plt\n",
    "import seaborn as sns\n",
    "import numpy as np\n",
    "\n",
    "from sklearn.model_selection import train_test_split\n",
    "from sklearn.preprocessing import PolynomialFeatures, OneHotEncoder, StandardScaler\n",
    "from sklearn.linear_model import LinearRegression\n",
    "from sklearn.pipeline import make_pipeline\n",
    "from sklearn.compose import make_column_transformer, make_column_selector"
   ]
  },
  {
   "cell_type": "code",
   "execution_count": 2,
   "id": "a2034f6b-cafa-41e3-9de7-a32513ebea5d",
   "metadata": {
    "collapsed": true,
    "jupyter": {
     "outputs_hidden": true,
     "source_hidden": true
    },
    "tags": []
   },
   "outputs": [
    {
     "data": {
      "text/html": [
       "<div>\n",
       "<style scoped>\n",
       "    .dataframe tbody tr th:only-of-type {\n",
       "        vertical-align: middle;\n",
       "    }\n",
       "\n",
       "    .dataframe tbody tr th {\n",
       "        vertical-align: top;\n",
       "    }\n",
       "\n",
       "    .dataframe thead th {\n",
       "        text-align: right;\n",
       "    }\n",
       "</style>\n",
       "<table border=\"1\" class=\"dataframe\">\n",
       "  <thead>\n",
       "    <tr style=\"text-align: right;\">\n",
       "      <th></th>\n",
       "      <th></th>\n",
       "      <th>C</th>\n",
       "    </tr>\n",
       "    <tr>\n",
       "      <th>A</th>\n",
       "      <th>B</th>\n",
       "      <th></th>\n",
       "    </tr>\n",
       "  </thead>\n",
       "  <tbody>\n",
       "    <tr>\n",
       "      <th>1</th>\n",
       "      <th>4</th>\n",
       "      <td>NaN</td>\n",
       "    </tr>\n",
       "    <tr>\n",
       "      <th>2</th>\n",
       "      <th>5</th>\n",
       "      <td>15.0</td>\n",
       "    </tr>\n",
       "    <tr>\n",
       "      <th>3</th>\n",
       "      <th>6</th>\n",
       "      <td>17.0</td>\n",
       "    </tr>\n",
       "  </tbody>\n",
       "</table>\n",
       "</div>"
      ],
      "text/plain": [
       "        C\n",
       "A B      \n",
       "1 4   NaN\n",
       "2 5  15.0\n",
       "3 6  17.0"
      ]
     },
     "execution_count": 2,
     "metadata": {},
     "output_type": "execute_result"
    }
   ],
   "source": [
    "tf = pd.DataFrame(columns = [\"A\", \"B\", \"C\"])\n",
    "tf.A = [1, 2, 3]\n",
    "tf.B = [4, 5, 6]\n",
    "tf.C = [7, 8, 9]\n",
    "tf = tf.set_index([\"A\", \"B\"])\n",
    "#tf[\"D\"] = tf.index.to_series()\n",
    "#2 * tf  # Index not affected\n",
    "#tf.mean()\n",
    "tf + tf.shift()"
   ]
  },
  {
   "cell_type": "code",
   "execution_count": 3,
   "id": "4ce34a9c-1d5c-4a28-af92-50d7d862a8a3",
   "metadata": {
    "collapsed": true,
    "jupyter": {
     "outputs_hidden": true,
     "source_hidden": true
    },
    "tags": []
   },
   "outputs": [
    {
     "data": {
      "text/plain": [
       "A\n",
       "1    1\n",
       "2    2\n",
       "3    3\n",
       "Name: A, dtype: int64"
      ]
     },
     "execution_count": 3,
     "metadata": {},
     "output_type": "execute_result"
    }
   ],
   "source": [
    "tf.index.get_level_values(\"A\").to_series()"
   ]
  },
  {
   "cell_type": "markdown",
   "id": "dfeea0f9-daf7-4a95-9743-e7af2e4930b4",
   "metadata": {},
   "source": [
    "Note: Number of laps in current format only works with race because teams can refuel during practice/quali!"
   ]
  },
  {
   "cell_type": "markdown",
   "id": "9671dabf-0aa0-46f2-b0a8-1f427557304d",
   "metadata": {},
   "source": [
    "# Formula 1 Performance Analysis Introduction\n",
    "In order to perform well in a Formula 1 Grand Prix race, teams must develop a successful strategy for determining what compounds of tires to use during the race (there are several types of tires, each of which have a different tradeoff in terms of grip and lifespan), and when to make a pit stop to swap to a new pair of tires. While this is a very complex problem involving many variables, one of the most important things to consider is how long a set of tires will last before they lose enough grip to justify making a pit stop and changing the tires. One of the simpleset ways to measure vehicle performance is by using the lap times the car is capable of.\n",
    "\n",
    "\n",
    "This project aims to model vehicle lap times around a circuit, using publicly available features such as:\n",
    "* Number of laps driven during the session\n",
    "* Tire age in laps driven\n",
    "* Number of laps driven at a slower pace (eg, slowdown required for safety reasons)\n",
    "* Weather data (eg, track and air temperatures, humidity pressure)\n",
    "* Distance to car ahead (which impacts the vehicle's aerodynamics)\n",
    "* Driver's best lap time\n",
    "* Whether the car has made a pit stop on this lap\n",
    "\n",
    "\n",
    "For the sake of scope, this project will focus on only one event: the 2025 Japanese Grand Prix, which I have chosen because of its lack of rain and race interuptions in order to make data cleaning and analysis simpler. In the future, the techniques applied here could be used on other events, and with the right features, a model could accurately predict lap times from multiple circuits.\n",
    "\n",
    "If this project is sufficiently successful, the results could be used for predictive analytics and could assist the development of a \"virtual race engineer,\" or a machine learning model that can make real time decisions in regards to actions such as pit stops in order to complete a race as quickly as possible. Additionally, understanding how different tire compounds perform on a given race track can improve future decisions on which tire types to use in future Grand Prix events."
   ]
  },
  {
   "cell_type": "markdown",
   "id": "b213c437-753e-4962-ba61-83e1387160dd",
   "metadata": {
    "tags": []
   },
   "source": [
    "## ETL\n",
    "The best source I found for this project is FastF1, a python package/data warehouse that curates data from Formula 1 official live timings (I came across this framework when I was browsing F1 related data sets on kaggle and saw FastF1 as a source for some of them). Each track session is separated into its own session object, which can be retrieved individually via the FastF1 package:"
   ]
  },
  {
   "cell_type": "code",
   "execution_count": 4,
   "id": "31ae8d49-f806-46ed-98fb-37803440011f",
   "metadata": {
    "jupyter": {
     "source_hidden": true
    },
    "tags": []
   },
   "outputs": [],
   "source": [
    "# This function ended up going unused in this version of the project due to running out of time to make it work. I have only left it in so I can work on it in the future\n",
    "def get_average_values(df, lower_bound, upper_bound):  # Should this be refactored to take in series instead?\n",
    "    \"\"\"\n",
    "    Given a dataframe with index Time and lower and upper time bounds (of type timestamp) and solely containing numeric data,\n",
    "    returns the weighted average over time (assuming change in these values over time is linear)\n",
    "    of all columns in the dataframe in the form of a Series.\n",
    "    \"\"\"\n",
    "    \n",
    "    df = df.assign(TimeInSeconds = df.index.to_series().dt.total_seconds())  # Change time format to total seconds to make division possible\n",
    "    \n",
    "    frame_in_range = df[(df.index <= upper_bound) & (df.index >= lower_bound)].sort_index(level = \"Time\")\n",
    "    #print(f\"frame_in_range:\\n{frame_in_range}\")\n",
    "    # TODO: Refactor so these value rows default to series, then convert to dataframe as needed?\n",
    "    t0_values = df[df.index <= lower_bound].sort_index(level = \"Time\").iloc[-1:]  # Last value recorded before lower_bound\n",
    "    t1_values = frame_in_range.iloc[:1]  # First value inside range\n",
    "    \n",
    "    tpen_values = frame_in_range.iloc[-1:]  # Last value inside range, ie t_penultimate\n",
    "    tmax_values = df[df.index >= upper_bound].sort_index(level = \"Time\").iloc[:1]  # First value recorded afer upper_bound\n",
    "    #print(f\"t0:\\n{t0_values}\\nt1:\\n{t1_values}\\ntpen:\\n{tpen_values}\\ntmax:\\n{tmax_values}\")\n",
    "    \n",
    "    # Assign estimate values to boundaries and add them to frame_in_range\n",
    "    theta = lambda t, t0, t1: np.divide(t - t0, t1 - t0)  # t is one of bounds, t0 and t1 are closest times surrounding this point (t1 > t0)\n",
    "    lower_bound_row = t0_values.iloc[0] + theta(lower_bound.total_seconds(), t0_values.TimeInSeconds.iloc[0], t1_values.TimeInSeconds.iloc[0]) * (t1_values.iloc[0] - t0_values.iloc[0])\n",
    "    print(f\"lower_bound_row:\\n{lower_bound_row}\")\n",
    "    upper_bound_row = tpen_values + theta(upper_bound.total_seconds(), tpen_values.TimeInSeconds, tmax_values.TimeInSeconds) * (tmax_values - tpen_values)\n",
    "    print(f\"upper_bound_row:\\n{upper_bound_row}\")\n",
    "    # Note that these are both 1 row dataframes\n",
    "    frame_in_range = pd.concat([frame_in_range, lower_bound_row, upper_bound_row]).sort_index(level = \"Time\")  # Set verify_integrity to true?\n",
    "    print(f\"new frame_in_range:\\n{frame_in_range}\")\n",
    "\n",
    "    # Computing weighted average\n",
    "    temp = frame_in_range + frame_in_range.shift()\n",
    "    weighted_interpolated_values = temp * frame_in_range.TimeInSeconds.diff()\n",
    "    \n",
    "    return 0.5 * weighted_interpolated_values.sum() / frame_in_range.TimeInSeconds.diff()\n",
    "    \n",
    "    # Note: aggregate functions return Series, can do series.to_frame().T to create 1 row frame"
   ]
  },
  {
   "cell_type": "code",
   "execution_count": 5,
   "id": "80f6fe5b-5ce2-48cf-bf8b-4d0b752d2c0e",
   "metadata": {
    "jupyter": {
     "source_hidden": true
    },
    "tags": []
   },
   "outputs": [],
   "source": [
    "# This function ended up going unused in this version of the project due to running out of time to make it work. I have only left it in so I can work on it in the future\n",
    "def get_weighted_average(series, lower_bound, upper_bound):\n",
    "    \"\"\"\n",
    "    Given a numeric series with index Time and lower and upper bounds in form of timestamp, \n",
    "    returns the weighted average over time. (assuming change between the variable over time between values is linear)\n",
    "    Return is a single numeric value\n",
    "    \"\"\"\n",
    "    \n",
    "    # Convert timestamps to total seconds, allows for mulitplication operations on timestamps\n",
    "    series = series.reindex(series.index.to_series().dt.total_seconds())\n",
    "    lower_bound = lower_bound.total_seconds()\n",
    "    upper_bound = upper_bound.total_seconds()\n",
    "    \n",
    "    \n",
    "    series_in_range = series[(series.index <= upper_bound) & (series.index >= lower_bound)].sort_index()\n",
    "    # Interpolate values to be used at start/endpoints\n",
    "    theta = lambda t, t0, t1: t_0 + np.divide(t - t0, t1 - t0) * (t_1 - t_0)  # Function for calculating midpoint ratio\n",
    "    values_to_add = {}\n",
    "    # Alternatively could just do df.drop_duplicates\n",
    "    if lower_bound not in series_in_range.index:  # Only interpolate boundaries if they are not in series\n",
    "        # v stands for value, t stands for time, ie series is  Series({t_i, v_i})\n",
    "        v_minus1 = series[series.index < lower_bound].sort_index().iloc[-1]\n",
    "        t_minus1 = series[series.index < lower_bound].sort_index().index[-1]\n",
    "        \n",
    "        v_1 = series_in_range.iloc[0]\n",
    "        t_1 = series_in_range.index[0]\n",
    "        \n",
    "        values_to_add[lower_bound] = v_minus1 + theta(lower_bound, t_minus1, t_1) * (v_1 - v_minus1)\n",
    "\n",
    "    if upper_bound not in series_in_range.index:\n",
    "        v_over = series[series.index > upper_bound].sort_index().iloc[-1]  # Over as beyond boundary\n",
    "        t_over = series[series.index > upper_bound].sort_index().index[-1]\n",
    "        \n",
    "        v_pen = series_in_range.iloc[-1]  # Pen for penultimate\n",
    "        t_pen = series_in_range.index[-1]\n",
    "        \n",
    "        values_to_add[upper_bound] = v_pen + theta(upper_bound, t_pen, t_over) * (v_over - v_pen)\n",
    "                                                                  \n",
    "    new_series = pd.Series(data = values_to_add)  # Convert to frame\n",
    "    series_in_range = pd.concat([series_in_range, new_series]).sort_index()  # Add interpolated values to series\n",
    "    \n",
    "    # Calculate weighted average\n",
    "    return np.divide(0.5, (upper_bound - lower_bound)) * series_in_range.index.to_series().diff() * (series_in_range + series_in_range.shift())"
   ]
  },
  {
   "cell_type": "code",
   "execution_count": 6,
   "id": "e75cffd9-d11a-4182-bdf0-5c2dc96598ab",
   "metadata": {
    "collapsed": true,
    "jupyter": {
     "outputs_hidden": true
    },
    "tags": []
   },
   "outputs": [
    {
     "name": "stderr",
     "output_type": "stream",
     "text": [
      "req         WARNING \tDEFAULT CACHE ENABLED! (511.86 MB) /home/studio-lab-user/.cache/fastf1\n",
      "core           INFO \tLoading data for Japanese Grand Prix - Practice 1 [v3.6.0]\n",
      "req            INFO \tUsing cached data for session_info\n",
      "req            INFO \tUsing cached data for driver_info\n",
      "req            INFO \tUsing cached data for session_status_data\n",
      "req            INFO \tUsing cached data for track_status_data\n",
      "req            INFO \tUsing cached data for _extended_timing_data\n",
      "req            INFO \tUsing cached data for timing_app_data\n",
      "core           INFO \tProcessing timing data...\n",
      "req            INFO \tUsing cached data for car_data\n",
      "req            INFO \tUsing cached data for position_data\n",
      "req            INFO \tUsing cached data for weather_data\n",
      "req            INFO \tUsing cached data for race_control_messages\n",
      "core           INFO \tFinished loading data for 20 drivers: ['1', '4', '5', '6', '10', '12', '14', '16', '18', '22', '23', '27', '30', '31', '44', '55', '62', '63', '81', '87']\n",
      "core           INFO \tLoading data for Japanese Grand Prix - Practice 2 [v3.6.0]\n",
      "req            INFO \tUsing cached data for session_info\n",
      "req            INFO \tUsing cached data for driver_info\n",
      "req            INFO \tUsing cached data for session_status_data\n",
      "req            INFO \tUsing cached data for track_status_data\n",
      "req            INFO \tUsing cached data for _extended_timing_data\n",
      "req            INFO \tUsing cached data for timing_app_data\n",
      "core           INFO \tProcessing timing data...\n",
      "req            INFO \tUsing cached data for car_data\n",
      "req            INFO \tUsing cached data for position_data\n",
      "req            INFO \tUsing cached data for weather_data\n",
      "req            INFO \tUsing cached data for race_control_messages\n",
      "core           INFO \tFinished loading data for 20 drivers: ['1', '4', '5', '6', '7', '10', '12', '14', '16', '18', '22', '23', '27', '30', '31', '44', '55', '63', '81', '87']\n",
      "core           INFO \tLoading data for Japanese Grand Prix - Practice 3 [v3.6.0]\n",
      "req            INFO \tUsing cached data for session_info\n",
      "req            INFO \tUsing cached data for driver_info\n",
      "req            INFO \tUsing cached data for session_status_data\n",
      "req            INFO \tUsing cached data for track_status_data\n",
      "req            INFO \tUsing cached data for _extended_timing_data\n",
      "req            INFO \tUsing cached data for timing_app_data\n",
      "core           INFO \tProcessing timing data...\n",
      "req            INFO \tUsing cached data for car_data\n",
      "req            INFO \tUsing cached data for position_data\n",
      "req            INFO \tUsing cached data for weather_data\n",
      "req            INFO \tUsing cached data for race_control_messages\n",
      "core           INFO \tFinished loading data for 20 drivers: ['1', '4', '5', '6', '7', '10', '12', '14', '16', '18', '22', '23', '27', '30', '31', '44', '55', '63', '81', '87']\n",
      "core           INFO \tLoading data for Japanese Grand Prix - Qualifying [v3.6.0]\n",
      "req            INFO \tUsing cached data for session_info\n",
      "req            INFO \tUsing cached data for driver_info\n",
      "req            INFO \tUsing cached data for session_status_data\n",
      "req            INFO \tUsing cached data for track_status_data\n",
      "req            INFO \tUsing cached data for _extended_timing_data\n",
      "req            INFO \tUsing cached data for timing_app_data\n",
      "core           INFO \tProcessing timing data...\n",
      "req            INFO \tUsing cached data for car_data\n",
      "req            INFO \tUsing cached data for position_data\n",
      "req            INFO \tUsing cached data for weather_data\n",
      "req            INFO \tUsing cached data for race_control_messages\n",
      "core           INFO \tFinished loading data for 20 drivers: ['1', '4', '81', '16', '63', '12', '6', '44', '23', '87', '10', '55', '14', '30', '22', '27', '5', '31', '7', '18']\n",
      "core           INFO \tLoading data for Japanese Grand Prix - Race [v3.6.0]\n",
      "req            INFO \tUsing cached data for session_info\n",
      "req            INFO \tUsing cached data for driver_info\n",
      "req            INFO \tUsing cached data for session_status_data\n",
      "req            INFO \tUsing cached data for lap_count\n",
      "req            INFO \tUsing cached data for track_status_data\n",
      "req            INFO \tUsing cached data for _extended_timing_data\n",
      "req            INFO \tUsing cached data for timing_app_data\n",
      "core           INFO \tProcessing timing data...\n",
      "req            INFO \tUsing cached data for car_data\n",
      "req            INFO \tUsing cached data for position_data\n",
      "req            INFO \tUsing cached data for weather_data\n",
      "req            INFO \tUsing cached data for race_control_messages\n",
      "core           INFO \tFinished loading data for 20 drivers: ['1', '4', '81', '16', '63', '12', '44', '6', '23', '87', '14', '22', '10', '55', '7', '27', '30', '31', '5', '18']\n"
     ]
    }
   ],
   "source": [
    "#ETL order: load individual session, construct derived attributes, combine tables/create multi-index\n",
    "lap_dataframe_list = []\n",
    "\n",
    "for i in range(1, 6):  # iter over index of sessions in event\n",
    "    session = f1.get_session(2025, 3, i)  # 2025 year, 3rd event in the season, ith session of the event\n",
    "    session.load(telemetry = True, weather = True)\n",
    "    lap_data = session.laps\n",
    "    # Todo: convert datetime to total seconds?\n",
    "    # lap_data = lap_data[~ lap_data.FastF1Generated]  # Remove FastF1GeneratedData\n",
    "    # Should this be done now or later?\n",
    "    lap_data = lap_data.assign(Session = session.name)\n",
    "    lap_data = lap_data.set_index([\"Session\", \"Driver\", \"Time\"])\n",
    "    \n",
    "    \n",
    "    # Lap data transformations\n",
    "    lap_data[\"IsSlowLap\"] = lap_data[\"TrackStatus\"].apply(lambda x: bool({int(i) for i in x} & {4, 5, 6, 7})).astype(\"int\") # ie track status contains status 4-7\n",
    "    # Necessary to make integer since this will be transformed into cumulative number of laps done slowly using groupby cumsum\n",
    "\n",
    "    # Todo: fastest lap datapoint\n",
    "    lap_data[\"EnteredPits\"] = pd.notna(lap_data[\"PitInTime\"])\n",
    "    lap_data[\"ExitedPits\"] = pd.notna(lap_data[\"PitOutTime\"])  # Leave these as separate for now\n",
    "    \n",
    "    # Weather Data\n",
    "    weather_data = session.weather_data.drop(columns = [\"WindSpeed\", \"WindDirection\", \"Rainfall\"]).set_index(\"Time\")  # Apply might work? Would have to send entire dataframe as argument, then return series\n",
    "    # Assign expects Series or function that takes entire frame as argument\n",
    "    # apply takes function that accepts entire data array *but also can accept additional arguments)\n",
    "    \"\"\"lap_data.assign(MeanAirTemp = get_weighted_average(weather_data.AirTemp, lap_data.LapStartTime, lap_data.index.get_level_values(\"Time\").to_series()), \n",
    "                    MeanTrackTemp = lap_data.apply(get_weighted_average(weather_data.TrackTemp, lap_data.LapStartTime, lap_data.index.get_level_values(\"Time\").to_series())), \n",
    "                    MeanHumidity = lap_data.apply(get_weighted_average(weather_data.Humidity, lap_data.LapStartTime, lap_data.index.get_level_values(\"Time\").to_series())), \n",
    "                    MeanPressure = lap_data.apply(get_weighted_average(weather_data.Pressure, lap_data.LapStartTime, lap_data.index.get_level_values(\"Time\").to_series())))\n",
    "    \"\"\"\n",
    "    \n",
    "    # Telemetry\n",
    "    # For each lap: run get_car_data, perform transform on speed,\n",
    "    # run add_driver_ahead on telemetry obj (output of get_lap_data), average distance ahead\n",
    "    \n",
    "    # Prep to combine dataframes\n",
    "    # To filter by fast laps, need to to that here\n",
    "    lap_dataframe_list.append(lap_data)\n",
    "\n",
    "# TODO: split everything that isn't needed in API call sessions into new cell\n",
    "# Combine dataframes, drop unused columns, sort index \n",
    "all_laps_raw = pd.concat(lap_dataframe_list).drop(columns = ['DriverNumber', 'Team', 'Stint', 'Sector1Time', 'Sector2Time', 'Sector3Time', \n",
    "                                                         'Sector1SessionTime', 'Sector2SessionTime', 'Sector3SessionTime', \n",
    "                                                         'SpeedI1', 'SpeedI2', 'SpeedFL', 'SpeedST', 'IsPersonalBest', 'FreshTyre', \n",
    "                                                         'LapStartDate', 'Deleted', 'DeletedReason']).sort_index()\n",
    "\n"
   ]
  },
  {
   "cell_type": "code",
   "execution_count": 7,
   "id": "62c10d77-bffa-484f-a270-c5c3e8fbfcc8",
   "metadata": {},
   "outputs": [],
   "source": [
    "# More transformation\n",
    "# Todo: Filter by IsAccurate? (removes in/outlaps)\n",
    "\n",
    "# Dropping now unwanted columns/rows\n",
    "all_laps = all_laps_raw.drop(all_laps_raw[all_laps_raw.FastF1Generated | all_laps_raw.IsSlowLap].index)  # Remove artificially generated laps and laps that aren't at race pace\n",
    "\n",
    "# Convert LapTime to total_seconds\n",
    "all_laps[\"LapTime\"] = all_laps.LapTime.dt.total_seconds()\n",
    "\n",
    "# Drop values used to derive actual features but aren't features, rows with missing values, move Driver attribute back from index to columns (moved in the first place for grouping based transformations)\n",
    "all_laps = all_laps.drop(columns = ['PitInTime', 'PitOutTime', 'TrackStatus', 'Position', 'LapStartTime', 'FastF1Generated', 'IsSlowLap', 'IsAccurate']).dropna().reset_index(level = \"Driver\")"
   ]
  },
  {
   "cell_type": "markdown",
   "id": "07e877a3-9a15-4567-8d1e-879271e27ef9",
   "metadata": {
    "tags": []
   },
   "source": [
    "## Data Evaluation"
   ]
  },
  {
   "cell_type": "code",
   "execution_count": 8,
   "id": "adf60ff1-9aba-423f-b139-8a7e5ac5073c",
   "metadata": {
    "tags": []
   },
   "outputs": [
    {
     "name": "stdout",
     "output_type": "stream",
     "text": [
      "<class 'fastf1.core.Laps'>\n",
      "MultiIndex: 1931 entries, ('Practice 1', Timedelta('0 days 00:19:36.785000')) to ('Race', Timedelta('0 days 02:18:13.890000'))\n",
      "Data columns (total 7 columns):\n",
      " #   Column       Non-Null Count  Dtype  \n",
      "---  ------       --------------  -----  \n",
      " 0   Driver       1931 non-null   object \n",
      " 1   LapTime      1931 non-null   float64\n",
      " 2   LapNumber    1931 non-null   float64\n",
      " 3   Compound     1931 non-null   object \n",
      " 4   TyreLife     1931 non-null   float64\n",
      " 5   EnteredPits  1931 non-null   bool   \n",
      " 6   ExitedPits   1931 non-null   bool   \n",
      "dtypes: bool(2), float64(3), object(2)\n",
      "memory usage: 168.4+ KB\n"
     ]
    }
   ],
   "source": [
    "all_laps.info()"
   ]
  },
  {
   "cell_type": "code",
   "execution_count": 9,
   "id": "ebe45b1f-de5a-4de7-973c-680d616c7efd",
   "metadata": {},
   "outputs": [
    {
     "data": {
      "text/html": [
       "<div>\n",
       "<style scoped>\n",
       "    .dataframe tbody tr th:only-of-type {\n",
       "        vertical-align: middle;\n",
       "    }\n",
       "\n",
       "    .dataframe tbody tr th {\n",
       "        vertical-align: top;\n",
       "    }\n",
       "\n",
       "    .dataframe thead th {\n",
       "        text-align: right;\n",
       "    }\n",
       "</style>\n",
       "<table border=\"1\" class=\"dataframe\">\n",
       "  <thead>\n",
       "    <tr style=\"text-align: right;\">\n",
       "      <th></th>\n",
       "      <th></th>\n",
       "      <th>Driver</th>\n",
       "      <th>LapTime</th>\n",
       "      <th>LapNumber</th>\n",
       "      <th>Compound</th>\n",
       "      <th>TyreLife</th>\n",
       "      <th>EnteredPits</th>\n",
       "      <th>ExitedPits</th>\n",
       "    </tr>\n",
       "    <tr>\n",
       "      <th>Session</th>\n",
       "      <th>Time</th>\n",
       "      <th></th>\n",
       "      <th></th>\n",
       "      <th></th>\n",
       "      <th></th>\n",
       "      <th></th>\n",
       "      <th></th>\n",
       "      <th></th>\n",
       "    </tr>\n",
       "  </thead>\n",
       "  <tbody>\n",
       "    <tr>\n",
       "      <th rowspan=\"5\" valign=\"top\">Practice 1</th>\n",
       "      <th>0 days 00:19:36.785000</th>\n",
       "      <td>ALB</td>\n",
       "      <td>93.351</td>\n",
       "      <td>2.0</td>\n",
       "      <td>MEDIUM</td>\n",
       "      <td>2.0</td>\n",
       "      <td>False</td>\n",
       "      <td>False</td>\n",
       "    </tr>\n",
       "    <tr>\n",
       "      <th>0 days 00:21:49.902000</th>\n",
       "      <td>ALB</td>\n",
       "      <td>133.117</td>\n",
       "      <td>3.0</td>\n",
       "      <td>MEDIUM</td>\n",
       "      <td>3.0</td>\n",
       "      <td>False</td>\n",
       "      <td>False</td>\n",
       "    </tr>\n",
       "    <tr>\n",
       "      <th>0 days 00:23:20.788000</th>\n",
       "      <td>ALB</td>\n",
       "      <td>90.886</td>\n",
       "      <td>4.0</td>\n",
       "      <td>MEDIUM</td>\n",
       "      <td>4.0</td>\n",
       "      <td>False</td>\n",
       "      <td>False</td>\n",
       "    </tr>\n",
       "    <tr>\n",
       "      <th>0 days 00:25:47.106000</th>\n",
       "      <td>ALB</td>\n",
       "      <td>146.318</td>\n",
       "      <td>5.0</td>\n",
       "      <td>MEDIUM</td>\n",
       "      <td>5.0</td>\n",
       "      <td>True</td>\n",
       "      <td>False</td>\n",
       "    </tr>\n",
       "    <tr>\n",
       "      <th>0 days 00:29:57.982000</th>\n",
       "      <td>ALB</td>\n",
       "      <td>90.354</td>\n",
       "      <td>7.0</td>\n",
       "      <td>HARD</td>\n",
       "      <td>2.0</td>\n",
       "      <td>False</td>\n",
       "      <td>False</td>\n",
       "    </tr>\n",
       "  </tbody>\n",
       "</table>\n",
       "</div>"
      ],
      "text/plain": [
       "                                  Driver  LapTime  LapNumber Compound  \\\n",
       "Session    Time                                                         \n",
       "Practice 1 0 days 00:19:36.785000    ALB   93.351        2.0   MEDIUM   \n",
       "           0 days 00:21:49.902000    ALB  133.117        3.0   MEDIUM   \n",
       "           0 days 00:23:20.788000    ALB   90.886        4.0   MEDIUM   \n",
       "           0 days 00:25:47.106000    ALB  146.318        5.0   MEDIUM   \n",
       "           0 days 00:29:57.982000    ALB   90.354        7.0     HARD   \n",
       "\n",
       "                                   TyreLife  EnteredPits  ExitedPits  \n",
       "Session    Time                                                       \n",
       "Practice 1 0 days 00:19:36.785000       2.0        False       False  \n",
       "           0 days 00:21:49.902000       3.0        False       False  \n",
       "           0 days 00:23:20.788000       4.0        False       False  \n",
       "           0 days 00:25:47.106000       5.0         True       False  \n",
       "           0 days 00:29:57.982000       2.0        False       False  "
      ]
     },
     "execution_count": 9,
     "metadata": {},
     "output_type": "execute_result"
    }
   ],
   "source": [
    "all_laps.head()"
   ]
  },
  {
   "cell_type": "code",
   "execution_count": 10,
   "id": "1ff5abf2-bb39-49d6-b52b-6358279a37db",
   "metadata": {
    "tags": []
   },
   "outputs": [
    {
     "name": "stdout",
     "output_type": "stream",
     "text": [
      "Number of laps: 2398\n"
     ]
    },
    {
     "data": {
      "text/plain": [
       "LapTime        467\n",
       "PitOutTime    2034\n",
       "PitInTime     2045\n",
       "Position      1339\n",
       "dtype: int64"
      ]
     },
     "execution_count": 10,
     "metadata": {},
     "output_type": "execute_result"
    }
   ],
   "source": [
    "# Todo: count of FastF1Generated, IsAccurate, Deleted, missing values on *RAW* laps\n",
    "print(f\"Number of laps: {len(all_laps_raw)}\")\n",
    "all_laps_raw.isna().sum()[all_laps_raw.isna().sum() > 0]  # Attributes with null values and corresponding value counts"
   ]
  },
  {
   "cell_type": "markdown",
   "id": "8bf8d668-924a-44ca-b183-3bc30b69c7fa",
   "metadata": {},
   "source": [
    "These missing values seem mostly consistent with the situation. The missing position values correspond with the number of laps that were recorded outside the race session, where drivers are not racing each other. The missing pit out/pit in times are also consistent with the fact that drivers do not always enter the pits at the end of a lap (and thus don't exit it on the next).\n",
    "There are however more missing lap times than outlaps, so we have not accounted for all the missing lap times at this time."
   ]
  },
  {
   "cell_type": "code",
   "execution_count": 11,
   "id": "261ee6ca-4c2f-4f82-90ad-3e566e59b8ad",
   "metadata": {
    "tags": []
   },
   "outputs": [
    {
     "name": "stdout",
     "output_type": "stream",
     "text": [
      "LapNumber\n",
      "1.0     100\n",
      "2.0     100\n",
      "3.0     100\n",
      "4.0      99\n",
      "5.0      99\n",
      "6.0      97\n",
      "7.0      97\n",
      "8.0      97\n",
      "9.0      97\n",
      "10.0     90\n",
      "11.0     89\n",
      "12.0     89\n",
      "13.0     76\n",
      "14.0     69\n",
      "15.0     67\n",
      "16.0     62\n",
      "17.0     59\n",
      "18.0     51\n",
      "19.0     48\n",
      "20.0     46\n",
      "21.0     43\n",
      "22.0     39\n",
      "23.0     38\n",
      "24.0     35\n",
      "25.0     33\n",
      "26.0     27\n",
      "27.0     26\n",
      "28.0     25\n",
      "29.0     21\n",
      "30.0     20\n",
      "31.0     20\n",
      "32.0     20\n",
      "33.0     20\n",
      "34.0     20\n",
      "35.0     20\n",
      "36.0     20\n",
      "37.0     20\n",
      "38.0     20\n",
      "39.0     20\n",
      "40.0     20\n",
      "41.0     20\n",
      "42.0     20\n",
      "43.0     20\n",
      "44.0     20\n",
      "45.0     20\n",
      "46.0     20\n",
      "47.0     20\n",
      "48.0     20\n",
      "49.0     20\n",
      "50.0     20\n",
      "51.0     20\n",
      "52.0     20\n",
      "53.0     19\n",
      "Name: count, dtype: int64\n",
      "Compound\n",
      "MEDIUM    863\n",
      "SOFT      771\n",
      "HARD      764\n",
      "Name: count, dtype: int64\n",
      "TyreLife\n",
      "1.0     250\n",
      "2.0     242\n",
      "3.0     233\n",
      "4.0     159\n",
      "5.0     149\n",
      "6.0     135\n",
      "7.0     107\n",
      "8.0     101\n",
      "9.0      92\n",
      "10.0     82\n",
      "11.0     74\n",
      "12.0     72\n",
      "13.0     69\n",
      "14.0     66\n",
      "15.0     60\n",
      "16.0     53\n",
      "17.0     50\n",
      "18.0     47\n",
      "19.0     47\n",
      "20.0     42\n",
      "21.0     38\n",
      "22.0     33\n",
      "23.0     28\n",
      "24.0     23\n",
      "25.0     21\n",
      "26.0     19\n",
      "27.0     19\n",
      "28.0     19\n",
      "29.0     18\n",
      "30.0     16\n",
      "31.0     13\n",
      "32.0      9\n",
      "33.0      6\n",
      "34.0      2\n",
      "35.0      1\n",
      "36.0      1\n",
      "37.0      1\n",
      "38.0      1\n",
      "Name: count, dtype: int64\n"
     ]
    }
   ],
   "source": [
    "for col in [\"LapNumber\", \"Compound\", \"TyreLife\"]:\n",
    "    print(all_laps_raw[col].value_counts())"
   ]
  },
  {
   "cell_type": "markdown",
   "id": "15074a72-21c9-4874-be95-c779282e023f",
   "metadata": {},
   "source": [
    "These values indicate that lap number and tire life are accurately recorded, and we get good representation of each tire compound over the race weekend."
   ]
  },
  {
   "cell_type": "code",
   "execution_count": 12,
   "id": "766ceddd-4311-44ef-913e-3acef559d804",
   "metadata": {
    "tags": []
   },
   "outputs": [
    {
     "data": {
      "text/plain": [
       "Compound\n",
       "HARD      543\n",
       "MEDIUM    452\n",
       "SOFT       64\n",
       "Name: count, dtype: int64"
      ]
     },
     "execution_count": 12,
     "metadata": {},
     "output_type": "execute_result"
    }
   ],
   "source": [
    "all_laps.loc[\"Race\"].Compound.value_counts()"
   ]
  },
  {
   "cell_type": "markdown",
   "id": "7e722c09-cf95-48d0-9df3-49af636c81fd",
   "metadata": {},
   "source": [
    "However, there is much less representation of soft tires during the actual race"
   ]
  },
  {
   "cell_type": "code",
   "execution_count": 13,
   "id": "7be93f1a-82ac-4f1f-8c20-fb97158beeef",
   "metadata": {},
   "outputs": [
    {
     "data": {
      "image/png": "[encoded data removed]",
      "text/plain": [
       "<Figure size 640x480 with 1 Axes>"
      ]
     },
     "metadata": {},
     "output_type": "display_data"
    }
   ],
   "source": [
    "plt.hist(all_laps_raw[\"LapTime\"].dt.total_seconds(), bins = 20)\n",
    "plt.ylabel(\"Count\")\n",
    "plt.xlabel(\"Lap Time (s)\")\n",
    "plt.title(\"Distribution of Lap Times Throughout Race Weekend\")\n",
    "plt.show()"
   ]
  },
  {
   "cell_type": "code",
   "execution_count": 14,
   "id": "0138a6eb-6d6a-49dd-bdf5-7b35179ccc2e",
   "metadata": {},
   "outputs": [
    {
     "data": {
      "image/png": "[encoded data removed]",
      "text/plain": [
       "<Figure size 640x480 with 1 Axes>"
      ]
     },
     "metadata": {},
     "output_type": "display_data"
    }
   ],
   "source": [
    "plt.hist(all_laps.loc[\"Race\"][\"LapTime\"], bins = 20)\n",
    "plt.ylabel(\"Count\")\n",
    "plt.xlabel(\"Lap Time (s)\")\n",
    "plt.title(\"Distribution of Lap Times During Race Only\")\n",
    "plt.show()"
   ]
  },
  {
   "cell_type": "markdown",
   "id": "2c49cd0d-f170-4f83-98e9-4395cc3ee649",
   "metadata": {},
   "source": [
    "Currently, the race weekend has much more dirty data than the race itself"
   ]
  },
  {
   "cell_type": "markdown",
   "id": "6264a444-eff3-45ca-ae4e-903fb71d2dd2",
   "metadata": {},
   "source": [
    "## Methods and Results\n",
    "I intend to approach this problem by training a linear model to predict lap times with the specified features. Due to the complex nature of the relationships between some of these attributes, I also intend to use data visualization to determine how and if to transform these features in order to better fit a linear model. Transformations include using polynomial features, natural splines, binning ordinal data, and interactions between some variables. Since the scope of this project is explanatory analytics, I will randomly split the entire set of lap data into training and testing data. Further investigation could use free practice data and data from previous events to train a model to predict the outcome of a future race, but we will avoid doing so in this project to maintain a reasonable scope.\n",
    "**(Note: splitting entire dataset is subject to change later in project, also maybe move comment on predicting outcomes to discussion)**"
   ]
  },
  {
   "cell_type": "code",
   "execution_count": 15,
   "id": "0a3bfa3b-8b59-46e0-9c9e-285453263f36",
   "metadata": {},
   "outputs": [],
   "source": [
    "# sklearn workflow\n",
    "hot_column_selector = make_column_selector(dtype_include = [\"bool\", \"object\"])  # Selects all columns that need to be run through OneHotEncoder, ie booleans and strings (objects)\n",
    "boolean_converter = make_column_transformer([OneHotEncoder(drop = \"first\"), hot_column_selector], remainder = \"passthrough\")\n",
    "\n",
    "#steps = boolean_converter, LinearRegression()  # make_pipeline(steps) Doesn't work, gets passed as list or tuple\n",
    "basic_pipeline = make_pipeline(boolean_converter, LinearRegression())"
   ]
  },
  {
   "cell_type": "code",
   "execution_count": 16,
   "id": "cce7ae02-9a57-4410-9c0b-ffc04776d28b",
   "metadata": {
    "tags": []
   },
   "outputs": [],
   "source": [
    "# Fit model with train_test split\n",
    "X = all_laps.drop(columns = [\"LapTime\"])  # Try taking out driver for test, filtering better for slow laps\n",
    "y = all_laps.LapTime\n",
    "\n",
    "X_train, X_test, y_train, y_test = train_test_split(X, y)\n",
    "\n",
    "test_fit2 = basic_pipeline.fit(X_train, y_train)"
   ]
  },
  {
   "cell_type": "code",
   "execution_count": 17,
   "id": "a98a91ef-0870-4996-9628-be29e3f948a8",
   "metadata": {
    "tags": []
   },
   "outputs": [
    {
     "data": {
      "text/plain": [
       "0.25515007881946417"
      ]
     },
     "execution_count": 17,
     "metadata": {},
     "output_type": "execute_result"
    }
   ],
   "source": [
    "test_fit2.score(X_test, y_test)"
   ]
  },
  {
   "cell_type": "code",
   "execution_count": 19,
   "id": "70f4daaf-6584-4f65-885d-b0854034c4f2",
   "metadata": {
    "tags": []
   },
   "outputs": [
    {
     "data": {
      "text/plain": [
       "onehotencoder__Driver_ALO          -0.383882\n",
       "onehotencoder__Driver_ANT          -1.371638\n",
       "onehotencoder__Driver_BEA          -3.984348\n",
       "onehotencoder__Driver_BOR          -1.802473\n",
       "onehotencoder__Driver_DOO          -1.546889\n",
       "onehotencoder__Driver_GAS           1.199614\n",
       "onehotencoder__Driver_HAD          -0.749016\n",
       "onehotencoder__Driver_HAM          -2.350611\n",
       "onehotencoder__Driver_HIR          -1.150779\n",
       "onehotencoder__Driver_HUL          -2.596668\n",
       "onehotencoder__Driver_LAW          -2.137746\n",
       "onehotencoder__Driver_LEC          -0.397600\n",
       "onehotencoder__Driver_NOR          -2.720664\n",
       "onehotencoder__Driver_OCO          -2.661686\n",
       "onehotencoder__Driver_PIA          -2.421348\n",
       "onehotencoder__Driver_RUS          -2.923452\n",
       "onehotencoder__Driver_SAI           0.424953\n",
       "onehotencoder__Driver_STR           2.881127\n",
       "onehotencoder__Driver_TSU          -2.566772\n",
       "onehotencoder__Driver_VER          -3.957652\n",
       "onehotencoder__Compound_MEDIUM     -0.605202\n",
       "onehotencoder__Compound_SOFT        0.780244\n",
       "onehotencoder__EnteredPits_True    20.280232\n",
       "onehotencoder__ExitedPits_True     27.609880\n",
       "remainder__LapNumber               -0.171865\n",
       "remainder__TyreLife                 0.035305\n",
       "dtype: float64"
      ]
     },
     "execution_count": 19,
     "metadata": {},
     "output_type": "execute_result"
    }
   ],
   "source": [
    "pd.Series(data = test_fit2[-1].coef_, index = test_fit2[:-1].get_feature_names_out())"
   ]
  },
  {
   "cell_type": "code",
   "execution_count": 20,
   "id": "7cdb57b4-4f13-485d-95f2-d4c93137a589",
   "metadata": {
    "tags": []
   },
   "outputs": [
    {
     "data": {
      "image/png": "[encoded data removed]",
      "text/plain": [
       "<Figure size 640x480 with 1 Axes>"
      ]
     },
     "metadata": {},
     "output_type": "display_data"
    }
   ],
   "source": [
    "test_residuals = y_test - test_fit2.predict(X_test)\n",
    "plt.hist(test_residuals, bins = 30)\n",
    "plt.title(\"Residual Distribution of Model Predictions (All Sessions)\")\n",
    "plt.xlabel(\"Residual (seconds)\")\n",
    "plt.show()"
   ]
  },
  {
   "cell_type": "code",
   "execution_count": 21,
   "id": "2b1d8f3d-c3d9-413f-9537-3a3d5fe385ea",
   "metadata": {
    "tags": []
   },
   "outputs": [],
   "source": [
    "# Fit model with train_test split on only race data\n",
    "race_subset = all_laps.loc[\"Race\"]\n",
    "X = race_subset.drop(columns = [\"LapTime\"])\n",
    "y = race_subset.LapTime\n",
    "\n",
    "X_train, X_test, y_train, y_test = train_test_split(X, y)\n",
    "\n",
    "test_fit = basic_pipeline.fit(X_train, y_train)"
   ]
  },
  {
   "cell_type": "code",
   "execution_count": 22,
   "id": "f14ae976-efdf-4b1a-8d3e-f385c95fd395",
   "metadata": {
    "tags": []
   },
   "outputs": [
    {
     "data": {
      "text/plain": [
       "0.926096454725801"
      ]
     },
     "execution_count": 22,
     "metadata": {},
     "output_type": "execute_result"
    }
   ],
   "source": [
    "test_fit.score(X_test, y_test)  # Surely has to be overfitting"
   ]
  },
  {
   "cell_type": "code",
   "execution_count": 23,
   "id": "f7e3c60b-0721-4062-8982-95a4e206308e",
   "metadata": {
    "tags": []
   },
   "outputs": [
    {
     "data": {
      "image/png": "[encoded data removed]",
      "text/plain": [
       "<Figure size 640x480 with 1 Axes>"
      ]
     },
     "metadata": {},
     "output_type": "display_data"
    }
   ],
   "source": [
    "test_residuals = y_test - test_fit.predict(X_test)\n",
    "plt.hist(test_residuals, bins = 30)\n",
    "plt.title(\"Residual Distribution of Model Predictions (Race Only)\")\n",
    "plt.xlabel(\"Residual (seconds)\")\n",
    "plt.show()"
   ]
  },
  {
   "cell_type": "markdown",
   "id": "e9c30802-f72e-482b-9dba-7b14856b56eb",
   "metadata": {},
   "source": [
    "The model seems to have normally distributed residuals, with the exception of the outliers where the model greatly underestimates the lap time. Given that there are 4 of these outliers, they could likely be attributed to things like going off track or a botched pitstop, which are things we cannot reasonably predict. <br>\n",
    "A determination coefficient this high indciates that there is some overfitting or data leaking, which we will explore later. <br>\n",
    "Testing for discrepancy between all sessions and race only notes: tried lap number (thinking about refueling), didn't help. Next idea: Discrepancy in \"pit stop\" length between practice/quali and race"
   ]
  },
  {
   "cell_type": "code",
   "execution_count": 24,
   "id": "c6305c80-d29a-4b82-ba59-e845ee091379",
   "metadata": {
    "tags": []
   },
   "outputs": [
    {
     "data": {
      "text/plain": [
       "onehotencoder__Driver_VER          -0.777034\n",
       "onehotencoder__Driver_NOR          -0.751528\n",
       "onehotencoder__Driver_PIA          -0.730643\n",
       "onehotencoder__Driver_LEC          -0.462004\n",
       "onehotencoder__Driver_RUS          -0.433564\n",
       "onehotencoder__Driver_ANT          -0.361689\n",
       "onehotencoder__Driver_HAM          -0.249749\n",
       "remainder__LapNumber               -0.088237\n",
       "onehotencoder__Compound_MEDIUM     -0.060563\n",
       "onehotencoder__Driver_HAD          -0.030403\n",
       "remainder__TyreLife                 0.025854\n",
       "onehotencoder__Driver_BEA           0.171766\n",
       "onehotencoder__Driver_TSU           0.234130\n",
       "onehotencoder__Driver_ALO           0.323557\n",
       "onehotencoder__Compound_SOFT        0.358021\n",
       "onehotencoder__Driver_GAS           0.481515\n",
       "onehotencoder__Driver_SAI           0.535167\n",
       "onehotencoder__Driver_DOO           0.639166\n",
       "onehotencoder__Driver_HUL           0.666510\n",
       "onehotencoder__Driver_OCO           0.782552\n",
       "onehotencoder__Driver_LAW           0.815177\n",
       "onehotencoder__Driver_STR           0.881184\n",
       "onehotencoder__Driver_BOR           0.885436\n",
       "onehotencoder__EnteredPits_True     2.365700\n",
       "onehotencoder__ExitedPits_True     21.117125\n",
       "dtype: float64"
      ]
     },
     "execution_count": 24,
     "metadata": {},
     "output_type": "execute_result"
    }
   ],
   "source": [
    "pd.Series(data = test_fit[-1].coef_, index = test_fit[:-1].get_feature_names_out()).sort_values()  # Encoder dropped Albon\n",
    "# Idea for future: train pit entered/pit exited times on races in past years, \n",
    "# see if those predictions match the ones we get by modeling this years race data.\n",
    "# If the predictions are similar, we can mutate race predicted race laps to include this offset and \n",
    "# get closer to being able to predict races using only practice/quali data"
   ]
  },
  {
   "cell_type": "markdown",
   "id": "ac1a8147-b785-4584-8788-32948917c578",
   "metadata": {},
   "source": [
    "Strangely enough, regardless of training data, this data seems to imply that soft tires result in slower lap times, which contradicts intuition. We will need to further investigate the context in which they were used (it is possible that there is some confounding factor) in order to understand why this is happening. I originally hypothesized that this could be because of the lesser representation in race data, but this is most likely not the case since the same result shows when training on the entire race weekend. <br>\n",
    "As for how the model weighs drivers, it does an okay job ordering drivers. If we compare ranking by weight to race results, it gets many things right, such as Verstappen being fastest, Stroll being slowest, Russel and Antonelli being in the correct order, etc. However, there are some strange artifacts, such as Bearman supposedly having the second fastest average pace, despite finishing in 10th. It is possible that due to complex factors these factors are not comparable."
   ]
  },
  {
   "cell_type": "code",
   "execution_count": 25,
   "id": "dcfa4a66-7939-49bb-9171-31fc33f54e7b",
   "metadata": {
    "tags": []
   },
   "outputs": [
    {
     "name": "stdout",
     "output_type": "stream",
     "text": [
      "Without ['Driver']: 0.8777564083598068\n",
      "Without ['Compound']: 0.8371465185579442\n",
      "Without ['EnteredPits', 'ExitedPits']: 0.14812724125873045\n",
      "Without ['LapNumber']: 0.7957774903190797\n",
      "Without ['TyreLife']: 0.8274254299009569\n",
      "Without ['Driver', 'Compound', 'LapNumber', 'TyreLife']: 0.8294852466747071\n"
     ]
    }
   ],
   "source": [
    "# Testing how much effect dropping each feature has on coefficient of determination\n",
    "dropped_cols_set = [[\"Driver\"], [\"Compound\"], [\"EnteredPits\", \"ExitedPits\"], [\"LapNumber\"], [\"TyreLife\"], [\"Driver\", \"Compound\", \"LapNumber\", \"TyreLife\"]]\n",
    "for dropped_cols in dropped_cols_set:\n",
    "    race_subset = all_laps.loc[\"Race\"].drop(columns = dropped_cols)\n",
    "    X = race_subset.drop(columns = [\"LapTime\"])\n",
    "    y = race_subset.LapTime\n",
    "\n",
    "    X_train, X_test, y_train, y_test = train_test_split(X, y)\n",
    "\n",
    "    test_fit = basic_pipeline.fit(X_train, y_train)\n",
    "    print(f\"Without {dropped_cols}: {test_fit.score(X_test, y_test)}\")"
   ]
  },
  {
   "cell_type": "markdown",
   "id": "bf25088b-8880-49e7-b4f9-5a586b7c1519",
   "metadata": {},
   "source": [
    "Based on this preliminary swapping out of features, it seems that removing whether a vehicle entered or exited from the pits has the greatest effect on accuracy (which makes sense since out of all these features, making a pit stop affects times the most). In fact, a model trained solely on whether a vehicle entered or exited the pits has a coefficient of determination of approximately 0.6, which if anything shows how tightly grouped lap times are."
   ]
  },
  {
   "cell_type": "markdown",
   "id": "777378f0-4703-457c-b36b-90dd7dcb029e",
   "metadata": {},
   "source": [
    "## Discussion\n",
    "Overall, the results of this project make for an acceptable start for future work. While the model trained on the entire race weekend exhibits poor performance, that can be attributed to insufficient cleaning, demonstrated by the distribution of lap time graphs. The linear model trained on race data seems to maintain a strong degree of accuracy with no evidence of overfitting or target data leaking. <br>\n",
    "From these results, it is clear that tracking the number of laps completed (or a feature correlated to it), tire life, and pit entry/exit is vital for a successful model. Other features such as driver and tire compound are less clear in terms of contribution, but this can be resolved with more rigorous statistical analysis. <br>\n",
    "The next steps for this project are to improve cleaning methods for race weekend data, then to investigate the possibility of developing a model that can predict race lap times using only data from previous sessions. This project has demonstrated that such a linear model is suitable for the next steps of development, along with what steps must be taken to ensure cleanliness of lap data."
   ]
  }
 ],
 "metadata": {
  "kernelspec": {
   "display_name": ".conda-f1-data-display:Python",
   "language": "python",
   "name": "conda-env-.conda-f1-data-display-py"
  },
  "language_info": {
   "codemirror_mode": {
    "name": "ipython",
    "version": 3
   },
   "file_extension": ".py",
   "mimetype": "text/x-python",
   "name": "python",
   "nbconvert_exporter": "python",
   "pygments_lexer": "ipython3",
   "version": "3.13.3"
  }
 },
 "nbformat": 4,
 "nbformat_minor": 5
}
